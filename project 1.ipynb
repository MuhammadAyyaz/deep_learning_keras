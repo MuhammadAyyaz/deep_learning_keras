{
 "cells": [
  {
   "cell_type": "code",
   "execution_count": null,
   "metadata": {
    "_uuid": "b5b972f01c029d249fa3fc46c7279aa91e3e8e17"
   },
   "outputs": [],
   "source": [
    "import pandas as pd\n",
    "import numpy as np\n",
    "from keras.models import Sequential\n",
    "from keras.layers import Dense\n",
    "from keras.wrappers.scikit_learn import KerasClassifier\n",
    "from sklearn.model_selection import cross_val_score\n",
    "from sklearn.preprocessing import LabelEncoder\n",
    "from sklearn.model_selection import StratifiedKFold\n",
    "from sklearn.preprocessing import StandardScaler\n",
    "from sklearn.pipeline import Pipeline\n",
    "from keras.utils import to_categorical\n",
    "from keras import layers\n",
    "from keras.optimizers import Adam , rmsprop\n"
   ]
  },
  {
   "cell_type": "code",
   "execution_count": null,
   "metadata": {
    "_uuid": "0ae369b0083ab4eaf479b1faaa20ebbcaeefb3eb"
   },
   "outputs": [],
   "source": [
    "seed=7\n",
    "np.random.seed(seed)"
   ]
  },
  {
   "cell_type": "code",
   "execution_count": null,
   "metadata": {
    "_uuid": "93f598923b15d7df96302a13f9edb6da0fe0a1b3"
   },
   "outputs": [],
   "source": [
    "sonar_data=pd.read_csv('sonar.csv', header=None)"
   ]
  },
  {
   "cell_type": "code",
   "execution_count": null,
   "metadata": {
    "_uuid": "570a22d3437266c9f2aa9c924e7cf48ab3c73c47"
   },
   "outputs": [],
   "source": [
    "dataset=sonar_data.values"
   ]
  },
  {
   "cell_type": "code",
   "execution_count": null,
   "metadata": {
    "_uuid": "e5c34a703d88fb0566afc2a42c086305770e5e66"
   },
   "outputs": [],
   "source": [
    "dataset"
   ]
  },
  {
   "cell_type": "markdown",
   "metadata": {
    "_uuid": "f925bc3686f94e5d7f7d6465b62f7f247be2329d"
   },
   "source": [
    "### Splitting Training  & Testing data "
   ]
  },
  {
   "cell_type": "code",
   "execution_count": null,
   "metadata": {
    "_uuid": "3577730cd2cc47d75eebaaec473ff8b19dfc55b1"
   },
   "outputs": [],
   "source": [
    "X=dataset[:,0:60].astype('float')\n",
    "Y=dataset[:,60]\n"
   ]
  },
  {
   "cell_type": "markdown",
   "metadata": {
    "_uuid": "4ab966bc8293a1bf017f3f220f55f234a7674fc0"
   },
   "source": [
    "### Converting Labels  "
   ]
  },
  {
   "cell_type": "code",
   "execution_count": null,
   "metadata": {
    "_uuid": "ecb629acb08a30d0e89812e2cdd76a466989c26c"
   },
   "outputs": [],
   "source": [
    "Le=LabelEncoder() \n",
    "Le.fit(Y) \n",
    "encoded=Le.transform(Y)\n"
   ]
  },
  {
   "cell_type": "code",
   "execution_count": null,
   "metadata": {
    "_uuid": "52ecdd8bf8b946e978d437a47ea64238f1cd9860"
   },
   "outputs": [],
   "source": [
    "encoded"
   ]
  },
  {
   "cell_type": "markdown",
   "metadata": {
    "_uuid": "488b229f4b791816b020e5d4e51f75134ac7d8a8"
   },
   "source": [
    "### Baseline Model"
   ]
  },
  {
   "cell_type": "code",
   "execution_count": null,
   "metadata": {
    "_uuid": "377dedd00c481f06c637aac45aa7e6dbd6eb50d9"
   },
   "outputs": [],
   "source": [
    "def create_baseline():\n",
    "    model=Sequential()\n",
    "    model.add(Dense(60, activation='relu',input_shape=(60,)))\n",
    "    model.add(Dense(1,activation='sigmoid'))\n",
    "    model.compile(optimizer=Adam(lr=0.002), loss='binary_crossentropy', metrics=['accuracy'])\n",
    "    return model\n",
    "    "
   ]
  },
  {
   "cell_type": "markdown",
   "metadata": {
    "_uuid": "59548099cb832c176665c4226aaa4bb9dd23df57"
   },
   "source": [
    "### Evaluating Baseline Model "
   ]
  },
  {
   "cell_type": "code",
   "execution_count": null,
   "metadata": {
    "_uuid": "a0023c5e14184f8e0620d3eebb1be065ae0c5ff0"
   },
   "outputs": [],
   "source": [
    "estimator = KerasClassifier(build_fn=create_baseline, epochs=100, batch_size=5, verbose=0)\n",
    "kfold = StratifiedKFold(n_splits=10, shuffle=True, random_state=seed)\n",
    "results = cross_val_score(estimator, X, encoded, cv=kfold)\n",
    "print(\"Results: %.2f%% (%.2f%%)\" % (results.mean()*100, results.std()*100))\n"
   ]
  },
  {
   "cell_type": "markdown",
   "metadata": {
    "_uuid": "77449be4fe037ad35f9ee67693d00d22d1010efd"
   },
   "source": [
    "### Evaluate baseline model with standardized dataset"
   ]
  },
  {
   "cell_type": "code",
   "execution_count": null,
   "metadata": {
    "_uuid": "9f3aa93486a1eb79ca12b224556191bebadb8654"
   },
   "outputs": [],
   "source": [
    "np.random.seed(seed)\n",
    "estimators = []\n",
    "estimators.append(('standardize', StandardScaler()))\n",
    "estimators.append(('mlp', KerasClassifier(build_fn=create_baseline, epochs=100, batch_size=20, verbose=0)))\n",
    "pipeline = Pipeline(estimators)\n",
    "kfold = StratifiedKFold(n_splits=10, shuffle=True, random_state=seed)\n",
    "results = cross_val_score(pipeline, X, encoded, cv=kfold)\n",
    "print(\"Standardized: %.2f%% (%.2f%%)\" % (results.mean()*100, results.std()*100))\n"
   ]
  },
  {
   "cell_type": "markdown",
   "metadata": {
    "_uuid": "55e97a882c9920e3ed4ac9d44f2648310c54c89a"
   },
   "source": [
    "### Creating smaller model"
   ]
  },
  {
   "cell_type": "code",
   "execution_count": null,
   "metadata": {
    "_uuid": "f6c9a7106f38cdc038ea0a713267526620482a30"
   },
   "outputs": [],
   "source": [
    "def create_smaller():\n",
    "    model=Sequential()\n",
    "    model.add(Dense(30, activation='relu',input_shape=(60,)))\n",
    "    model.add(Dense(1,activation='sigmoid'))\n",
    "    model.compile(optimizer=Adam(lr=0.002), loss='binary_crossentropy', metrics=['accuracy'])\n",
    "    return model"
   ]
  },
  {
   "cell_type": "markdown",
   "metadata": {
    "_uuid": "96af92df3032255f0ab125c5e48a0ec10f7628d1"
   },
   "source": [
    "### Evaluate Smaller model"
   ]
  },
  {
   "cell_type": "code",
   "execution_count": null,
   "metadata": {
    "_uuid": "6f4dc1dadfb26e20894b182232b70d28e3796bca"
   },
   "outputs": [],
   "source": [
    "estimators = []\n",
    "estimators.append(('standardize', StandardScaler()))\n",
    "estimators.append(('mlp', KerasClassifier(build_fn=create_smaller, epochs=100, batch_size=5, verbose=0)))\n",
    "pipeline = Pipeline(estimators)\n",
    "kfold = StratifiedKFold(n_splits=10, shuffle=True, random_state=seed)\n",
    "results = cross_val_score(pipeline, X, encoded, cv=kfold)\n",
    "print(\"Smaller: %.2f%% (%.2f%%)\" % (results.mean()*100, results.std()*100))\n"
   ]
  },
  {
   "cell_type": "markdown",
   "metadata": {
    "_uuid": "522ac5635031483c6a1fed05e2f5b5d0c8ba34e8"
   },
   "source": [
    "### Creating Larger model"
   ]
  },
  {
   "cell_type": "code",
   "execution_count": null,
   "metadata": {
    "_uuid": "f7582955257c8a8eb84dc8010dce1553f1136350"
   },
   "outputs": [],
   "source": [
    "def create_larger():\n",
    "    model=Sequential()\n",
    "    model.add(Dense(60, activation='relu',input_shape=(60,)))\n",
    "    model.add(Dense(30, activation='relu'))\n",
    "    model.add(Dense(30, activation='relu'))\n",
    "    model.add(Dense(1,activation='sigmoid'))\n",
    "    model.compile(optimizer=Adam(lr=0.002), loss='binary_crossentropy', metrics=['accuracy'])\n",
    "    return model"
   ]
  },
  {
   "cell_type": "markdown",
   "metadata": {
    "_uuid": "5fb91bb4d7fcf4751a3c437b1eceb2385bb1d343"
   },
   "source": [
    "### Evaluate Larger model"
   ]
  },
  {
   "cell_type": "code",
   "execution_count": null,
   "metadata": {
    "_uuid": "b42b44806df59af876736ea95970c236d8c6664d"
   },
   "outputs": [],
   "source": [
    "estimators = []\n",
    "estimators.append(('standardize', StandardScaler()))\n",
    "estimators.append(('mlp', KerasClassifier(build_fn=create_larger, epochs=100, batch_size=5, verbose=0)))\n",
    "pipeline = Pipeline(estimators)\n",
    "kfold = StratifiedKFold(n_splits=10, shuffle=True, random_state=seed)\n",
    "results = cross_val_score(pipeline, X, encoded, cv=kfold)\n",
    "print(\"Larger: %.2f%% (%.2f%%)\" % (results.mean()*100, results.std()*100))\n"
   ]
  },
  {
   "cell_type": "markdown",
   "metadata": {
    "_uuid": "eb23bff85cd6f5617d47431724b153cb3b05e673"
   },
   "source": [
    "### Creating model that overfits"
   ]
  },
  {
   "cell_type": "code",
   "execution_count": null,
   "metadata": {
    "_uuid": "806b2e1957f836530f1e2dab15d574cbe47ee959"
   },
   "outputs": [],
   "source": [
    "def create_overfitting_model():\n",
    "    model=Sequential()\n",
    "    model.add(Dense(60, activation='relu',input_shape=(60,)))\n",
    "    model.add(Dense(30, activation='relu'))\n",
    "    model.add(Dense(60, activation='relu'))\n",
    "    model.add(Dense(30, activation='relu'))\n",
    "    model.add(Dense(1,activation='sigmoid'))\n",
    "    model.compile(optimizer=Adam(lr=0.08), loss='binary_crossentropy', metrics=['accuracy'])\n",
    "    return model"
   ]
  },
  {
   "cell_type": "code",
   "execution_count": null,
   "metadata": {
    "_uuid": "bf592370ffa35a73ee015ea924ae26e68bde181f"
   },
   "outputs": [],
   "source": [
    "estimators = []\n",
    "estimators.append(('standardize', StandardScaler()))\n",
    "estimators.append(('mlp', KerasClassifier(build_fn=create_overfitting_model, epochs=200, batch_size=5, verbose=0)))\n",
    "pipeline = Pipeline(estimators)\n",
    "kfold = StratifiedKFold(n_splits=20, shuffle=True, random_state=seed)\n",
    "results = cross_val_score(pipeline, X, encoded, cv=kfold)\n",
    "print(\" %.2f%% (%.2f%%)\" % (results.mean()*100, results.std()*100))"
   ]
  },
  {
   "cell_type": "markdown",
   "metadata": {
    "_uuid": "e7e46636ee384fb0fe431ee951ac34177af44eed"
   },
   "source": [
    "### Retuning the baseline model "
   ]
  },
  {
   "cell_type": "code",
   "execution_count": null,
   "metadata": {
    "_uuid": "b177b07b169255101749564a3c939a6c5600c2e3"
   },
   "outputs": [],
   "source": [
    "def create_retuned_model():\n",
    "    model=Sequential()\n",
    "    model.add(Dense(60, activation='relu',input_shape=(60,)))\n",
    "    model.add(Dense(40, activation='relu'))\n",
    "    model.add(Dense(20, activation='relu'))\n",
    "    model.add(Dense(10, activation='relu'))\n",
    "    model.add(Dense(1,activation='sigmoid'))\n",
    "    model.compile(optimizer=Adam(lr=0.001), loss='binary_crossentropy', metrics=['accuracy'])\n",
    "    return model"
   ]
  },
  {
   "cell_type": "code",
   "execution_count": null,
   "metadata": {
    "_uuid": "e84b4460505c9568f45402eaabe5330a5c5c9c4d"
   },
   "outputs": [],
   "source": [
    "estimators = []\n",
    "estimators.append(('standardize', StandardScaler()))\n",
    "estimators.append(('mlp', KerasClassifier(build_fn=create_retuned_model, epochs=200, batch_size=10, verbose=0)))\n",
    "pipeline = Pipeline(estimators)\n",
    "kfold = StratifiedKFold(n_splits=20, shuffle=True, random_state=seed)\n",
    "results = cross_val_score(pipeline, X, encoded, cv=kfold)\n",
    "print(\"Result: %.2f%% (%.2f%%)\" % (results.mean()*100, results.std()*100))"
   ]
  },
  {
   "cell_type": "markdown",
   "metadata": {
    "_uuid": "d1245bc3dc8da840f9dd5b4fed7e9f59410dbe6b"
   },
   "source": [
    "### Model using keras functional API"
   ]
  },
  {
   "cell_type": "code",
   "execution_count": null,
   "metadata": {
    "_uuid": "84653f631dce76dee050be24b2f8764d3efdd95f"
   },
   "outputs": [],
   "source": [
    "import keras\n",
    "\n",
    "def functional_api():\n",
    "    inputs=keras.Input(shape=(60,))\n",
    "    hl_1=layers.Dense(60,activation='relu')(inputs)\n",
    "    hl_2=layers.Dense(30, activation='relu')(hl_1)\n",
    "    outputs=layers.Dense(1, activation='sigmoid')(hl_2)\n",
    "    model=keras.Model(inputs,outputs)\n",
    "    model.compile(optimizer=Adam(lr=0.002),loss='binary_crossentropy', metrics=['accuracy'])\n",
    "    return model"
   ]
  },
  {
   "cell_type": "code",
   "execution_count": null,
   "metadata": {
    "_uuid": "5a321d731f7c91ef4be83a93fda1b796862f567a"
   },
   "outputs": [],
   "source": [
    "estimators = []\n",
    "estimators.append(('standardize', StandardScaler()))\n",
    "estimators.append(('mlp', KerasClassifier(build_fn=functional_api, epochs=100, batch_size=5, verbose=0)))\n",
    "pipeline = Pipeline(estimators)\n",
    "kfold = StratifiedKFold(n_splits=10, shuffle=True, random_state=seed)\n",
    "results = cross_val_score(pipeline, X, encoded, cv=kfold)\n",
    "print(\"Functional_API_Result: %.2f%% (%.2f%%)\" % (results.mean()*100, results.std()*100))\n"
   ]
  },
  {
   "cell_type": "markdown",
   "metadata": {
    "_uuid": "01643df1b3c773fc19377740b6cb10be7dcac419"
   },
   "source": [
    "### Create model subclassing"
   ]
  },
  {
   "cell_type": "code",
   "execution_count": null,
   "metadata": {
    "_uuid": "3000149f614b2a71528f61cacf1c298edb73eaf5"
   },
   "outputs": [],
   "source": [
    "import keras\n",
    "input=keras.Input(shape=(60,))"
   ]
  },
  {
   "cell_type": "code",
   "execution_count": null,
   "metadata": {
    "_uuid": "9493615c6bdcd0608c5322452da0d0f4e3705041"
   },
   "outputs": [],
   "source": [
    "class Mymodel(keras.Model):\n",
    "\n",
    "    def __init__(self):\n",
    "        super(Mymodel, self).__init__()\n",
    "        self.dense1 = layers.Dense(32, activation='relu')\n",
    "        self.dense2 = layers.Dense(16, activation='relu')\n",
    "        self.dense3 = layers.Dense(8, activation='relu')\n",
    "        self.dense4 = layers.Dense(1, activation='softmax')\n",
    "        \n",
    "    def call(self, inputs):\n",
    "        x = self.dense1(inputs)\n",
    "        x=self.dense2(x)\n",
    "        x=self.dense3(x)\n",
    "        return self.dense4(x)\n",
    "\n",
    "model = Mymodel()\n",
    "model.compile(optimizer='Adam' , loss='binary_crossentropy', metrics=['accuracy'])\n",
    "model.fit(X, encoded, epochs=20, batch_size=5)"
   ]
  },
  {
   "cell_type": "markdown",
   "metadata": {
    "_uuid": "f2504de909d62c25130b9dbcabe937a1ff0d10a6"
   },
   "source": [
    "### Applying kfold cross-validation without scikit-learn"
   ]
  },
  {
   "cell_type": "code",
   "execution_count": null,
   "metadata": {
    "_uuid": "78987e5e134dc068d588f09893893abe281e4e4c"
   },
   "outputs": [],
   "source": [
    "k = 4\n",
    "num_val_samples = len(X) // k\n",
    "num_epochs = 100\n",
    "all_scores = []"
   ]
  },
  {
   "cell_type": "code",
   "execution_count": null,
   "metadata": {
    "_uuid": "99bd457268d20f6df22dccc348e223fd949f1e6b"
   },
   "outputs": [],
   "source": [
    "for i in range(k):\n",
    "    print('processing fold #', i)\n",
    "    val_data = X[i * num_val_samples: (i + 1) * num_val_samples]\n",
    "    val_targets = encoded[i * num_val_samples: (i + 1) * num_val_samples]\n",
    "    partial_train_data = np.concatenate([X[:i * num_val_samples],X[(i + 1) * num_val_samples:]],axis=0)\n",
    "    partial_train_targets = np.concatenate([encoded[:i * num_val_samples],encoded[(i + 1) * num_val_samples:]],axis=0)\n",
    "model = create_baseline()\n",
    "model.fit(partial_train_data, partial_train_targets,epochs=num_epochs, batch_size=1, verbose=0)\n",
    "val_mse, val_mae = model.evaluate(val_data, val_targets, verbose=0)\n",
    "all_scores.append(val_mae)"
   ]
  },
  {
   "cell_type": "code",
   "execution_count": null,
   "metadata": {
    "_uuid": "789928b2039079bea7c614a55eadfa897ebbeb0f"
   },
   "outputs": [],
   "source": [
    "np.mean(all_scores)*100"
   ]
  },
  {
   "cell_type": "code",
   "execution_count": null,
   "metadata": {
    "_uuid": "34856034bc5f54fd1bebc1786e7c93b2ba825fb2"
   },
   "outputs": [],
   "source": [
    "np.std(all_scores)*100"
   ]
  },
  {
   "cell_type": "code",
   "execution_count": null,
   "metadata": {
    "_uuid": "ed47915b6250385469c7c7b10c891484795aa56b"
   },
   "outputs": [],
   "source": []
  },
  {
   "cell_type": "code",
   "execution_count": null,
   "metadata": {
    "_uuid": "ed4e8761f4e17dc3f2a7d853ecf980193426e63b"
   },
   "outputs": [],
   "source": []
  },
  {
   "cell_type": "code",
   "execution_count": null,
   "metadata": {
    "_uuid": "d19dc33554af6be70a8e1b07710f37becabfe3e5"
   },
   "outputs": [],
   "source": []
  },
  {
   "cell_type": "code",
   "execution_count": null,
   "metadata": {
    "_uuid": "1f0230d053578278bf1870bf5b8a3f47f8dbbf42"
   },
   "outputs": [],
   "source": []
  },
  {
   "cell_type": "code",
   "execution_count": null,
   "metadata": {
    "_uuid": "a1e9300852b92e1231b10d29f7cff0b86e29ff40"
   },
   "outputs": [],
   "source": []
  }
 ],
 "metadata": {
  "kernelspec": {
   "display_name": "Python 3",
   "language": "python",
   "name": "python3"
  },
  "language_info": {
   "codemirror_mode": {
    "name": "ipython",
    "version": 3
   },
   "file_extension": ".py",
   "mimetype": "text/x-python",
   "name": "python",
   "nbconvert_exporter": "python",
   "pygments_lexer": "ipython3",
   "version": "3.6.4"
  }
 },
 "nbformat": 4,
 "nbformat_minor": 1
}
