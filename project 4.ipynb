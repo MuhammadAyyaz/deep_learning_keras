{
 "cells": [
  {
   "cell_type": "code",
   "execution_count": 3,
   "metadata": {},
   "outputs": [],
   "source": [
    "import numpy\n",
    "from pandas import read_csv\n",
    "from keras.models import Sequential\n",
    "from keras.layers import Dense\n",
    "from keras.layers import Dropout\n",
    "from keras.wrappers.scikit_learn import KerasClassifier\n",
    "from keras.constraints import maxnorm\n",
    "from keras.optimizers import SGD\n",
    "from sklearn.model_selection import cross_val_score\n",
    "from sklearn.preprocessing import LabelEncoder\n",
    "from sklearn.model_selection import StratifiedKFold\n",
    "from sklearn.preprocessing import StandardScaler\n",
    "from sklearn.pipeline import Pipeline\n",
    "from keras.optimizers import Adam"
   ]
  },
  {
   "cell_type": "code",
   "execution_count": 4,
   "metadata": {},
   "outputs": [],
   "source": [
    "seed = 7\n",
    "numpy.random.seed(seed)"
   ]
  },
  {
   "cell_type": "code",
   "execution_count": 5,
   "metadata": {},
   "outputs": [],
   "source": [
    "dataframe = read_csv(\"sonar.csv\", header=None)\n",
    "dataset = dataframe.values"
   ]
  },
  {
   "cell_type": "code",
   "execution_count": 6,
   "metadata": {},
   "outputs": [
    {
     "data": {
      "text/plain": [
       "(208,)"
      ]
     },
     "execution_count": 6,
     "metadata": {},
     "output_type": "execute_result"
    }
   ],
   "source": [
    "dataframe = read_csv(\"sonar.csv\", header=None)\n",
    "dataset = dataframe.values\n",
    "X = dataset[:,0:60].astype(float)\n",
    "Y = dataset[:,60]\n",
    "Y.shape"
   ]
  },
  {
   "cell_type": "code",
   "execution_count": 7,
   "metadata": {},
   "outputs": [],
   "source": [
    "encoder = LabelEncoder()\n",
    "encoder.fit(Y)\n",
    "encoded_Y = encoder.transform(Y)"
   ]
  },
  {
   "cell_type": "code",
   "execution_count": 8,
   "metadata": {},
   "outputs": [],
   "source": [
    "def create_baseline():\n",
    "    model = Sequential()\n",
    "    model.add(Dense(60, input_dim=60, kernel_initializer='normal', activation='relu'))\n",
    "    model.add(Dense(30, kernel_initializer='normal', activation='relu'))\n",
    "    model.add(Dense(1, kernel_initializer='normal', activation='sigmoid'))\n",
    "    sgd = SGD(lr=0.01, momentum=0.8, decay=0.0, nesterov=False)\n",
    "    model.compile(loss='binary_crossentropy', optimizer=sgd, metrics=['accuracy'])\n",
    "    return model\n"
   ]
  },
  {
   "cell_type": "code",
   "execution_count": 9,
   "metadata": {},
   "outputs": [
    {
     "name": "stdout",
     "output_type": "stream",
     "text": [
      "Baseline: 82.61% (6.72%)\n"
     ]
    }
   ],
   "source": [
    "estimators = []\n",
    "estimators.append(('standardize', StandardScaler()))\n",
    "estimators.append(('mlp', KerasClassifier(build_fn=create_baseline, epochs=300, batch_size=16, verbose=0)))\n",
    "pipeline = Pipeline(estimators)\n",
    "kfold = StratifiedKFold(n_splits=10, shuffle=True, random_state=seed)\n",
    "results = cross_val_score(pipeline, X, encoded_Y, cv=kfold)\n",
    "print(\"Baseline: %.2f%% (%.2f%%)\" % (results.mean()*100, results.std()*100))\n"
   ]
  },
  {
   "cell_type": "markdown",
   "metadata": {},
   "source": [
    "step 4"
   ]
  },
  {
   "cell_type": "code",
   "execution_count": 10,
   "metadata": {},
   "outputs": [],
   "source": [
    "def create_model():\n",
    "    \n",
    "    model = Sequential()\n",
    "    model.add(Dropout(0.2, input_shape=(60,)))\n",
    "    model.add(Dense(60, init='normal', activation='relu', W_constraint=maxnorm(3)))\n",
    "    model.add(Dense(30, init='normal', activation='relu', W_constraint=maxnorm(3)))\n",
    "    model.add(Dense(1, init='normal', activation='sigmoid'))\n",
    "    sgd = SGD(lr=0.1, momentum=0.9, decay=0.0, nesterov=False)\n",
    "    model.compile(loss='binary_crossentropy', optimizer=sgd, metrics=['accuracy'])\n",
    "    return model\n"
   ]
  },
  {
   "cell_type": "code",
   "execution_count": 11,
   "metadata": {},
   "outputs": [
    {
     "name": "stderr",
     "output_type": "stream",
     "text": [
      "C:\\Users\\Ayaz\\Anaconda3\\lib\\site-packages\\ipykernel_launcher.py:5: UserWarning: Update your `Dense` call to the Keras 2 API: `Dense(60, activation=\"relu\", kernel_initializer=\"normal\", kernel_constraint=<keras.con...)`\n",
      "  \"\"\"\n",
      "C:\\Users\\Ayaz\\Anaconda3\\lib\\site-packages\\ipykernel_launcher.py:6: UserWarning: Update your `Dense` call to the Keras 2 API: `Dense(30, activation=\"relu\", kernel_initializer=\"normal\", kernel_constraint=<keras.con...)`\n",
      "  \n",
      "C:\\Users\\Ayaz\\Anaconda3\\lib\\site-packages\\ipykernel_launcher.py:7: UserWarning: Update your `Dense` call to the Keras 2 API: `Dense(1, activation=\"sigmoid\", kernel_initializer=\"normal\")`\n",
      "  import sys\n",
      "C:\\Users\\Ayaz\\Anaconda3\\lib\\site-packages\\ipykernel_launcher.py:5: UserWarning: Update your `Dense` call to the Keras 2 API: `Dense(60, activation=\"relu\", kernel_initializer=\"normal\", kernel_constraint=<keras.con...)`\n",
      "  \"\"\"\n",
      "C:\\Users\\Ayaz\\Anaconda3\\lib\\site-packages\\ipykernel_launcher.py:6: UserWarning: Update your `Dense` call to the Keras 2 API: `Dense(30, activation=\"relu\", kernel_initializer=\"normal\", kernel_constraint=<keras.con...)`\n",
      "  \n",
      "C:\\Users\\Ayaz\\Anaconda3\\lib\\site-packages\\ipykernel_launcher.py:7: UserWarning: Update your `Dense` call to the Keras 2 API: `Dense(1, activation=\"sigmoid\", kernel_initializer=\"normal\")`\n",
      "  import sys\n",
      "C:\\Users\\Ayaz\\Anaconda3\\lib\\site-packages\\ipykernel_launcher.py:5: UserWarning: Update your `Dense` call to the Keras 2 API: `Dense(60, activation=\"relu\", kernel_initializer=\"normal\", kernel_constraint=<keras.con...)`\n",
      "  \"\"\"\n",
      "C:\\Users\\Ayaz\\Anaconda3\\lib\\site-packages\\ipykernel_launcher.py:6: UserWarning: Update your `Dense` call to the Keras 2 API: `Dense(30, activation=\"relu\", kernel_initializer=\"normal\", kernel_constraint=<keras.con...)`\n",
      "  \n",
      "C:\\Users\\Ayaz\\Anaconda3\\lib\\site-packages\\ipykernel_launcher.py:7: UserWarning: Update your `Dense` call to the Keras 2 API: `Dense(1, activation=\"sigmoid\", kernel_initializer=\"normal\")`\n",
      "  import sys\n",
      "C:\\Users\\Ayaz\\Anaconda3\\lib\\site-packages\\ipykernel_launcher.py:5: UserWarning: Update your `Dense` call to the Keras 2 API: `Dense(60, activation=\"relu\", kernel_initializer=\"normal\", kernel_constraint=<keras.con...)`\n",
      "  \"\"\"\n",
      "C:\\Users\\Ayaz\\Anaconda3\\lib\\site-packages\\ipykernel_launcher.py:6: UserWarning: Update your `Dense` call to the Keras 2 API: `Dense(30, activation=\"relu\", kernel_initializer=\"normal\", kernel_constraint=<keras.con...)`\n",
      "  \n",
      "C:\\Users\\Ayaz\\Anaconda3\\lib\\site-packages\\ipykernel_launcher.py:7: UserWarning: Update your `Dense` call to the Keras 2 API: `Dense(1, activation=\"sigmoid\", kernel_initializer=\"normal\")`\n",
      "  import sys\n",
      "C:\\Users\\Ayaz\\Anaconda3\\lib\\site-packages\\ipykernel_launcher.py:5: UserWarning: Update your `Dense` call to the Keras 2 API: `Dense(60, activation=\"relu\", kernel_initializer=\"normal\", kernel_constraint=<keras.con...)`\n",
      "  \"\"\"\n",
      "C:\\Users\\Ayaz\\Anaconda3\\lib\\site-packages\\ipykernel_launcher.py:6: UserWarning: Update your `Dense` call to the Keras 2 API: `Dense(30, activation=\"relu\", kernel_initializer=\"normal\", kernel_constraint=<keras.con...)`\n",
      "  \n",
      "C:\\Users\\Ayaz\\Anaconda3\\lib\\site-packages\\ipykernel_launcher.py:7: UserWarning: Update your `Dense` call to the Keras 2 API: `Dense(1, activation=\"sigmoid\", kernel_initializer=\"normal\")`\n",
      "  import sys\n",
      "C:\\Users\\Ayaz\\Anaconda3\\lib\\site-packages\\ipykernel_launcher.py:5: UserWarning: Update your `Dense` call to the Keras 2 API: `Dense(60, activation=\"relu\", kernel_initializer=\"normal\", kernel_constraint=<keras.con...)`\n",
      "  \"\"\"\n",
      "C:\\Users\\Ayaz\\Anaconda3\\lib\\site-packages\\ipykernel_launcher.py:6: UserWarning: Update your `Dense` call to the Keras 2 API: `Dense(30, activation=\"relu\", kernel_initializer=\"normal\", kernel_constraint=<keras.con...)`\n",
      "  \n",
      "C:\\Users\\Ayaz\\Anaconda3\\lib\\site-packages\\ipykernel_launcher.py:7: UserWarning: Update your `Dense` call to the Keras 2 API: `Dense(1, activation=\"sigmoid\", kernel_initializer=\"normal\")`\n",
      "  import sys\n",
      "C:\\Users\\Ayaz\\Anaconda3\\lib\\site-packages\\ipykernel_launcher.py:5: UserWarning: Update your `Dense` call to the Keras 2 API: `Dense(60, activation=\"relu\", kernel_initializer=\"normal\", kernel_constraint=<keras.con...)`\n",
      "  \"\"\"\n",
      "C:\\Users\\Ayaz\\Anaconda3\\lib\\site-packages\\ipykernel_launcher.py:6: UserWarning: Update your `Dense` call to the Keras 2 API: `Dense(30, activation=\"relu\", kernel_initializer=\"normal\", kernel_constraint=<keras.con...)`\n",
      "  \n",
      "C:\\Users\\Ayaz\\Anaconda3\\lib\\site-packages\\ipykernel_launcher.py:7: UserWarning: Update your `Dense` call to the Keras 2 API: `Dense(1, activation=\"sigmoid\", kernel_initializer=\"normal\")`\n",
      "  import sys\n",
      "C:\\Users\\Ayaz\\Anaconda3\\lib\\site-packages\\ipykernel_launcher.py:5: UserWarning: Update your `Dense` call to the Keras 2 API: `Dense(60, activation=\"relu\", kernel_initializer=\"normal\", kernel_constraint=<keras.con...)`\n",
      "  \"\"\"\n",
      "C:\\Users\\Ayaz\\Anaconda3\\lib\\site-packages\\ipykernel_launcher.py:6: UserWarning: Update your `Dense` call to the Keras 2 API: `Dense(30, activation=\"relu\", kernel_initializer=\"normal\", kernel_constraint=<keras.con...)`\n",
      "  \n",
      "C:\\Users\\Ayaz\\Anaconda3\\lib\\site-packages\\ipykernel_launcher.py:7: UserWarning: Update your `Dense` call to the Keras 2 API: `Dense(1, activation=\"sigmoid\", kernel_initializer=\"normal\")`\n",
      "  import sys\n",
      "C:\\Users\\Ayaz\\Anaconda3\\lib\\site-packages\\ipykernel_launcher.py:5: UserWarning: Update your `Dense` call to the Keras 2 API: `Dense(60, activation=\"relu\", kernel_initializer=\"normal\", kernel_constraint=<keras.con...)`\n",
      "  \"\"\"\n",
      "C:\\Users\\Ayaz\\Anaconda3\\lib\\site-packages\\ipykernel_launcher.py:6: UserWarning: Update your `Dense` call to the Keras 2 API: `Dense(30, activation=\"relu\", kernel_initializer=\"normal\", kernel_constraint=<keras.con...)`\n",
      "  \n",
      "C:\\Users\\Ayaz\\Anaconda3\\lib\\site-packages\\ipykernel_launcher.py:7: UserWarning: Update your `Dense` call to the Keras 2 API: `Dense(1, activation=\"sigmoid\", kernel_initializer=\"normal\")`\n",
      "  import sys\n",
      "C:\\Users\\Ayaz\\Anaconda3\\lib\\site-packages\\ipykernel_launcher.py:5: UserWarning: Update your `Dense` call to the Keras 2 API: `Dense(60, activation=\"relu\", kernel_initializer=\"normal\", kernel_constraint=<keras.con...)`\n",
      "  \"\"\"\n",
      "C:\\Users\\Ayaz\\Anaconda3\\lib\\site-packages\\ipykernel_launcher.py:6: UserWarning: Update your `Dense` call to the Keras 2 API: `Dense(30, activation=\"relu\", kernel_initializer=\"normal\", kernel_constraint=<keras.con...)`\n",
      "  \n",
      "C:\\Users\\Ayaz\\Anaconda3\\lib\\site-packages\\ipykernel_launcher.py:7: UserWarning: Update your `Dense` call to the Keras 2 API: `Dense(1, activation=\"sigmoid\", kernel_initializer=\"normal\")`\n",
      "  import sys\n"
     ]
    },
    {
     "name": "stdout",
     "output_type": "stream",
     "text": [
      "Visible: 84.61% (5.18%)\n"
     ]
    }
   ],
   "source": [
    "numpy.random.seed(seed)\n",
    "estimators = []\n",
    "estimators.append(('standardize', StandardScaler()))\n",
    "estimators.append(('mlp', KerasClassifier(build_fn=create_model, epochs=300, batch_size=16, verbose=0)))\n",
    "pipeline = Pipeline(estimators)\n",
    "kfold = StratifiedKFold(n_splits=10, shuffle=True, random_state=seed)\n",
    "results = cross_val_score(pipeline, X, encoded_Y, cv=kfold)\n",
    "print(\"Visible: %.2f%% (%.2f%%)\" % (results.mean()*100, results.std()*100))\n"
   ]
  },
  {
   "cell_type": "markdown",
   "metadata": {},
   "source": [
    "step 5"
   ]
  },
  {
   "cell_type": "code",
   "execution_count": 12,
   "metadata": {},
   "outputs": [],
   "source": [
    "def create_model():\n",
    "    model = Sequential()\n",
    "    model.add(Dropout(0.2, input_shape=(60,)))\n",
    "    model.add(Dense(60, init='normal', activation='relu', W_constraint=maxnorm(3)))\n",
    "    model.add(Dense(30, init='normal', activation='relu', W_constraint=maxnorm(3)))\n",
    "    model.add(Dense(1, init='normal', activation='sigmoid'))\n",
    "    sgd = SGD(lr=0.2, momentum=0.8, decay=0.0, nesterov=False)\n",
    "    model.compile(loss='binary_crossentropy', optimizer=sgd, metrics=['accuracy'])\n",
    "    return model"
   ]
  },
  {
   "cell_type": "code",
   "execution_count": 32,
   "metadata": {},
   "outputs": [
    {
     "name": "stderr",
     "output_type": "stream",
     "text": [
      "C:\\Users\\Ayaz\\Anaconda3\\lib\\site-packages\\ipykernel_launcher.py:5: UserWarning: Update your `Dense` call to the Keras 2 API: `Dense(60, activation=\"relu\", kernel_initializer=\"normal\", kernel_constraint=<keras.con...)`\n",
      "  \"\"\"\n",
      "C:\\Users\\Ayaz\\Anaconda3\\lib\\site-packages\\ipykernel_launcher.py:6: UserWarning: Update your `Dense` call to the Keras 2 API: `Dense(30, activation=\"relu\", kernel_initializer=\"normal\", kernel_constraint=<keras.con...)`\n",
      "  \n",
      "C:\\Users\\Ayaz\\Anaconda3\\lib\\site-packages\\ipykernel_launcher.py:7: UserWarning: Update your `Dense` call to the Keras 2 API: `Dense(1, activation=\"sigmoid\", kernel_initializer=\"normal\")`\n",
      "  import sys\n",
      "C:\\Users\\Ayaz\\Anaconda3\\lib\\site-packages\\ipykernel_launcher.py:5: UserWarning: Update your `Dense` call to the Keras 2 API: `Dense(60, activation=\"relu\", kernel_initializer=\"normal\", kernel_constraint=<keras.con...)`\n",
      "  \"\"\"\n",
      "C:\\Users\\Ayaz\\Anaconda3\\lib\\site-packages\\ipykernel_launcher.py:6: UserWarning: Update your `Dense` call to the Keras 2 API: `Dense(30, activation=\"relu\", kernel_initializer=\"normal\", kernel_constraint=<keras.con...)`\n",
      "  \n",
      "C:\\Users\\Ayaz\\Anaconda3\\lib\\site-packages\\ipykernel_launcher.py:7: UserWarning: Update your `Dense` call to the Keras 2 API: `Dense(1, activation=\"sigmoid\", kernel_initializer=\"normal\")`\n",
      "  import sys\n",
      "C:\\Users\\Ayaz\\Anaconda3\\lib\\site-packages\\ipykernel_launcher.py:5: UserWarning: Update your `Dense` call to the Keras 2 API: `Dense(60, activation=\"relu\", kernel_initializer=\"normal\", kernel_constraint=<keras.con...)`\n",
      "  \"\"\"\n",
      "C:\\Users\\Ayaz\\Anaconda3\\lib\\site-packages\\ipykernel_launcher.py:6: UserWarning: Update your `Dense` call to the Keras 2 API: `Dense(30, activation=\"relu\", kernel_initializer=\"normal\", kernel_constraint=<keras.con...)`\n",
      "  \n",
      "C:\\Users\\Ayaz\\Anaconda3\\lib\\site-packages\\ipykernel_launcher.py:7: UserWarning: Update your `Dense` call to the Keras 2 API: `Dense(1, activation=\"sigmoid\", kernel_initializer=\"normal\")`\n",
      "  import sys\n",
      "C:\\Users\\Ayaz\\Anaconda3\\lib\\site-packages\\ipykernel_launcher.py:5: UserWarning: Update your `Dense` call to the Keras 2 API: `Dense(60, activation=\"relu\", kernel_initializer=\"normal\", kernel_constraint=<keras.con...)`\n",
      "  \"\"\"\n",
      "C:\\Users\\Ayaz\\Anaconda3\\lib\\site-packages\\ipykernel_launcher.py:6: UserWarning: Update your `Dense` call to the Keras 2 API: `Dense(30, activation=\"relu\", kernel_initializer=\"normal\", kernel_constraint=<keras.con...)`\n",
      "  \n",
      "C:\\Users\\Ayaz\\Anaconda3\\lib\\site-packages\\ipykernel_launcher.py:7: UserWarning: Update your `Dense` call to the Keras 2 API: `Dense(1, activation=\"sigmoid\", kernel_initializer=\"normal\")`\n",
      "  import sys\n",
      "C:\\Users\\Ayaz\\Anaconda3\\lib\\site-packages\\ipykernel_launcher.py:5: UserWarning: Update your `Dense` call to the Keras 2 API: `Dense(60, activation=\"relu\", kernel_initializer=\"normal\", kernel_constraint=<keras.con...)`\n",
      "  \"\"\"\n",
      "C:\\Users\\Ayaz\\Anaconda3\\lib\\site-packages\\ipykernel_launcher.py:6: UserWarning: Update your `Dense` call to the Keras 2 API: `Dense(30, activation=\"relu\", kernel_initializer=\"normal\", kernel_constraint=<keras.con...)`\n",
      "  \n",
      "C:\\Users\\Ayaz\\Anaconda3\\lib\\site-packages\\ipykernel_launcher.py:7: UserWarning: Update your `Dense` call to the Keras 2 API: `Dense(1, activation=\"sigmoid\", kernel_initializer=\"normal\")`\n",
      "  import sys\n",
      "C:\\Users\\Ayaz\\Anaconda3\\lib\\site-packages\\ipykernel_launcher.py:5: UserWarning: Update your `Dense` call to the Keras 2 API: `Dense(60, activation=\"relu\", kernel_initializer=\"normal\", kernel_constraint=<keras.con...)`\n",
      "  \"\"\"\n",
      "C:\\Users\\Ayaz\\Anaconda3\\lib\\site-packages\\ipykernel_launcher.py:6: UserWarning: Update your `Dense` call to the Keras 2 API: `Dense(30, activation=\"relu\", kernel_initializer=\"normal\", kernel_constraint=<keras.con...)`\n",
      "  \n",
      "C:\\Users\\Ayaz\\Anaconda3\\lib\\site-packages\\ipykernel_launcher.py:7: UserWarning: Update your `Dense` call to the Keras 2 API: `Dense(1, activation=\"sigmoid\", kernel_initializer=\"normal\")`\n",
      "  import sys\n",
      "C:\\Users\\Ayaz\\Anaconda3\\lib\\site-packages\\ipykernel_launcher.py:5: UserWarning: Update your `Dense` call to the Keras 2 API: `Dense(60, activation=\"relu\", kernel_initializer=\"normal\", kernel_constraint=<keras.con...)`\n",
      "  \"\"\"\n",
      "C:\\Users\\Ayaz\\Anaconda3\\lib\\site-packages\\ipykernel_launcher.py:6: UserWarning: Update your `Dense` call to the Keras 2 API: `Dense(30, activation=\"relu\", kernel_initializer=\"normal\", kernel_constraint=<keras.con...)`\n",
      "  \n",
      "C:\\Users\\Ayaz\\Anaconda3\\lib\\site-packages\\ipykernel_launcher.py:7: UserWarning: Update your `Dense` call to the Keras 2 API: `Dense(1, activation=\"sigmoid\", kernel_initializer=\"normal\")`\n",
      "  import sys\n",
      "C:\\Users\\Ayaz\\Anaconda3\\lib\\site-packages\\ipykernel_launcher.py:5: UserWarning: Update your `Dense` call to the Keras 2 API: `Dense(60, activation=\"relu\", kernel_initializer=\"normal\", kernel_constraint=<keras.con...)`\n",
      "  \"\"\"\n",
      "C:\\Users\\Ayaz\\Anaconda3\\lib\\site-packages\\ipykernel_launcher.py:6: UserWarning: Update your `Dense` call to the Keras 2 API: `Dense(30, activation=\"relu\", kernel_initializer=\"normal\", kernel_constraint=<keras.con...)`\n",
      "  \n",
      "C:\\Users\\Ayaz\\Anaconda3\\lib\\site-packages\\ipykernel_launcher.py:7: UserWarning: Update your `Dense` call to the Keras 2 API: `Dense(1, activation=\"sigmoid\", kernel_initializer=\"normal\")`\n",
      "  import sys\n",
      "C:\\Users\\Ayaz\\Anaconda3\\lib\\site-packages\\ipykernel_launcher.py:5: UserWarning: Update your `Dense` call to the Keras 2 API: `Dense(60, activation=\"relu\", kernel_initializer=\"normal\", kernel_constraint=<keras.con...)`\n",
      "  \"\"\"\n",
      "C:\\Users\\Ayaz\\Anaconda3\\lib\\site-packages\\ipykernel_launcher.py:6: UserWarning: Update your `Dense` call to the Keras 2 API: `Dense(30, activation=\"relu\", kernel_initializer=\"normal\", kernel_constraint=<keras.con...)`\n",
      "  \n",
      "C:\\Users\\Ayaz\\Anaconda3\\lib\\site-packages\\ipykernel_launcher.py:7: UserWarning: Update your `Dense` call to the Keras 2 API: `Dense(1, activation=\"sigmoid\", kernel_initializer=\"normal\")`\n",
      "  import sys\n",
      "C:\\Users\\Ayaz\\Anaconda3\\lib\\site-packages\\ipykernel_launcher.py:5: UserWarning: Update your `Dense` call to the Keras 2 API: `Dense(60, activation=\"relu\", kernel_initializer=\"normal\", kernel_constraint=<keras.con...)`\n",
      "  \"\"\"\n",
      "C:\\Users\\Ayaz\\Anaconda3\\lib\\site-packages\\ipykernel_launcher.py:6: UserWarning: Update your `Dense` call to the Keras 2 API: `Dense(30, activation=\"relu\", kernel_initializer=\"normal\", kernel_constraint=<keras.con...)`\n",
      "  \n",
      "C:\\Users\\Ayaz\\Anaconda3\\lib\\site-packages\\ipykernel_launcher.py:7: UserWarning: Update your `Dense` call to the Keras 2 API: `Dense(1, activation=\"sigmoid\", kernel_initializer=\"normal\")`\n",
      "  import sys\n"
     ]
    },
    {
     "name": "stdout",
     "output_type": "stream",
     "text": [
      "Visible: 87.95% (5.85%)\n"
     ]
    }
   ],
   "source": [
    "numpy.random.seed(seed)\n",
    "estimators = []\n",
    "estimators.append(('standardize', StandardScaler()))\n",
    "estimators.append(('mlp', KerasClassifier(build_fn=create_model, epochs=200, batch_size=16, verbose=0)))\n",
    "pipeline = Pipeline(estimators)\n",
    "kfold = StratifiedKFold(n_splits=10, shuffle=True, random_state=seed)\n",
    "results = cross_val_score(pipeline, X, encoded_Y, cv=kfold)\n",
    "print(\"Visible: %.2f%% (%.2f%%)\" % (results.mean()*100, results.std()*100))\n"
   ]
  },
  {
   "cell_type": "markdown",
   "metadata": {},
   "source": [
    "step 6"
   ]
  },
  {
   "cell_type": "code",
   "execution_count": 15,
   "metadata": {},
   "outputs": [],
   "source": [
    "def create_model():\n",
    "    model = Sequential()\n",
    "    model.add(Dense(60,activation='relu', input_shape=(60,)))\n",
    "    model.add(Dropout(0.2,))\n",
    "    model.add(Dense(30, init='normal', activation='relu', W_constraint=maxnorm(3)))\n",
    "    model.add(Dense(1, init='normal', activation='sigmoid'))\n",
    "    sgd = SGD(lr=0.2, momentum=0.8, decay=0.0, nesterov=False)\n",
    "    model.compile(loss='binary_crossentropy', optimizer=sgd, metrics=['accuracy'])\n",
    "    return model"
   ]
  },
  {
   "cell_type": "code",
   "execution_count": 16,
   "metadata": {
    "scrolled": false
   },
   "outputs": [
    {
     "name": "stderr",
     "output_type": "stream",
     "text": [
      "C:\\Users\\Ayaz\\Anaconda3\\lib\\site-packages\\ipykernel_launcher.py:5: UserWarning: Update your `Dense` call to the Keras 2 API: `Dense(30, activation=\"relu\", kernel_initializer=\"normal\", kernel_constraint=<keras.con...)`\n",
      "  \"\"\"\n",
      "C:\\Users\\Ayaz\\Anaconda3\\lib\\site-packages\\ipykernel_launcher.py:6: UserWarning: Update your `Dense` call to the Keras 2 API: `Dense(1, activation=\"sigmoid\", kernel_initializer=\"normal\")`\n",
      "  \n",
      "C:\\Users\\Ayaz\\Anaconda3\\lib\\site-packages\\ipykernel_launcher.py:5: UserWarning: Update your `Dense` call to the Keras 2 API: `Dense(30, activation=\"relu\", kernel_initializer=\"normal\", kernel_constraint=<keras.con...)`\n",
      "  \"\"\"\n",
      "C:\\Users\\Ayaz\\Anaconda3\\lib\\site-packages\\ipykernel_launcher.py:6: UserWarning: Update your `Dense` call to the Keras 2 API: `Dense(1, activation=\"sigmoid\", kernel_initializer=\"normal\")`\n",
      "  \n",
      "C:\\Users\\Ayaz\\Anaconda3\\lib\\site-packages\\ipykernel_launcher.py:5: UserWarning: Update your `Dense` call to the Keras 2 API: `Dense(30, activation=\"relu\", kernel_initializer=\"normal\", kernel_constraint=<keras.con...)`\n",
      "  \"\"\"\n",
      "C:\\Users\\Ayaz\\Anaconda3\\lib\\site-packages\\ipykernel_launcher.py:6: UserWarning: Update your `Dense` call to the Keras 2 API: `Dense(1, activation=\"sigmoid\", kernel_initializer=\"normal\")`\n",
      "  \n",
      "C:\\Users\\Ayaz\\Anaconda3\\lib\\site-packages\\ipykernel_launcher.py:5: UserWarning: Update your `Dense` call to the Keras 2 API: `Dense(30, activation=\"relu\", kernel_initializer=\"normal\", kernel_constraint=<keras.con...)`\n",
      "  \"\"\"\n",
      "C:\\Users\\Ayaz\\Anaconda3\\lib\\site-packages\\ipykernel_launcher.py:6: UserWarning: Update your `Dense` call to the Keras 2 API: `Dense(1, activation=\"sigmoid\", kernel_initializer=\"normal\")`\n",
      "  \n",
      "C:\\Users\\Ayaz\\Anaconda3\\lib\\site-packages\\ipykernel_launcher.py:5: UserWarning: Update your `Dense` call to the Keras 2 API: `Dense(30, activation=\"relu\", kernel_initializer=\"normal\", kernel_constraint=<keras.con...)`\n",
      "  \"\"\"\n",
      "C:\\Users\\Ayaz\\Anaconda3\\lib\\site-packages\\ipykernel_launcher.py:6: UserWarning: Update your `Dense` call to the Keras 2 API: `Dense(1, activation=\"sigmoid\", kernel_initializer=\"normal\")`\n",
      "  \n",
      "C:\\Users\\Ayaz\\Anaconda3\\lib\\site-packages\\ipykernel_launcher.py:5: UserWarning: Update your `Dense` call to the Keras 2 API: `Dense(30, activation=\"relu\", kernel_initializer=\"normal\", kernel_constraint=<keras.con...)`\n",
      "  \"\"\"\n",
      "C:\\Users\\Ayaz\\Anaconda3\\lib\\site-packages\\ipykernel_launcher.py:6: UserWarning: Update your `Dense` call to the Keras 2 API: `Dense(1, activation=\"sigmoid\", kernel_initializer=\"normal\")`\n",
      "  \n",
      "C:\\Users\\Ayaz\\Anaconda3\\lib\\site-packages\\ipykernel_launcher.py:5: UserWarning: Update your `Dense` call to the Keras 2 API: `Dense(30, activation=\"relu\", kernel_initializer=\"normal\", kernel_constraint=<keras.con...)`\n",
      "  \"\"\"\n",
      "C:\\Users\\Ayaz\\Anaconda3\\lib\\site-packages\\ipykernel_launcher.py:6: UserWarning: Update your `Dense` call to the Keras 2 API: `Dense(1, activation=\"sigmoid\", kernel_initializer=\"normal\")`\n",
      "  \n",
      "C:\\Users\\Ayaz\\Anaconda3\\lib\\site-packages\\ipykernel_launcher.py:5: UserWarning: Update your `Dense` call to the Keras 2 API: `Dense(30, activation=\"relu\", kernel_initializer=\"normal\", kernel_constraint=<keras.con...)`\n",
      "  \"\"\"\n",
      "C:\\Users\\Ayaz\\Anaconda3\\lib\\site-packages\\ipykernel_launcher.py:6: UserWarning: Update your `Dense` call to the Keras 2 API: `Dense(1, activation=\"sigmoid\", kernel_initializer=\"normal\")`\n",
      "  \n",
      "C:\\Users\\Ayaz\\Anaconda3\\lib\\site-packages\\ipykernel_launcher.py:5: UserWarning: Update your `Dense` call to the Keras 2 API: `Dense(30, activation=\"relu\", kernel_initializer=\"normal\", kernel_constraint=<keras.con...)`\n",
      "  \"\"\"\n",
      "C:\\Users\\Ayaz\\Anaconda3\\lib\\site-packages\\ipykernel_launcher.py:6: UserWarning: Update your `Dense` call to the Keras 2 API: `Dense(1, activation=\"sigmoid\", kernel_initializer=\"normal\")`\n",
      "  \n",
      "C:\\Users\\Ayaz\\Anaconda3\\lib\\site-packages\\ipykernel_launcher.py:5: UserWarning: Update your `Dense` call to the Keras 2 API: `Dense(30, activation=\"relu\", kernel_initializer=\"normal\", kernel_constraint=<keras.con...)`\n",
      "  \"\"\"\n",
      "C:\\Users\\Ayaz\\Anaconda3\\lib\\site-packages\\ipykernel_launcher.py:6: UserWarning: Update your `Dense` call to the Keras 2 API: `Dense(1, activation=\"sigmoid\", kernel_initializer=\"normal\")`\n",
      "  \n"
     ]
    },
    {
     "name": "stdout",
     "output_type": "stream",
     "text": [
      "Visible: 80.38% (11.09%)\n"
     ]
    }
   ],
   "source": [
    "numpy.random.seed(seed)\n",
    "estimators = []\n",
    "estimators.append(('standardize', StandardScaler()))\n",
    "estimators.append(('mlp', KerasClassifier(build_fn=create_model, epochs=200, batch_size=16, verbose=0)))\n",
    "pipeline = Pipeline(estimators)\n",
    "kfold = StratifiedKFold(n_splits=10, shuffle=True, random_state=seed)\n",
    "results = cross_val_score(pipeline, X, encoded_Y, cv=kfold)\n",
    "print(\"Visible: %.2f%% (%.2f%%)\" % (results.mean()*100, results.std()*100))\n"
   ]
  },
  {
   "cell_type": "markdown",
   "metadata": {},
   "source": [
    "step 7"
   ]
  },
  {
   "cell_type": "code",
   "execution_count": 17,
   "metadata": {},
   "outputs": [],
   "source": [
    "def create_model():\n",
    "    model = Sequential()\n",
    "    model.add(Dense(60,activation='relu', input_shape=(60,)))\n",
    "    model.add(Dropout(0.2,))\n",
    "    model.add(Dense(20, init='normal', activation='relu', W_constraint=maxnorm(3)))\n",
    "    model.add(Dense(1, init='normal', activation='sigmoid'))\n",
    "    sgd = SGD(lr=0.002, momentum=0.5, decay=0.0, nesterov=False)\n",
    "    model.compile(loss='binary_crossentropy', optimizer=sgd, metrics=['accuracy'])\n",
    "    return model"
   ]
  },
  {
   "cell_type": "code",
   "execution_count": 18,
   "metadata": {
    "scrolled": true
   },
   "outputs": [
    {
     "name": "stderr",
     "output_type": "stream",
     "text": [
      "C:\\Users\\Ayaz\\Anaconda3\\lib\\site-packages\\ipykernel_launcher.py:5: UserWarning: Update your `Dense` call to the Keras 2 API: `Dense(20, activation=\"relu\", kernel_initializer=\"normal\", kernel_constraint=<keras.con...)`\n",
      "  \"\"\"\n",
      "C:\\Users\\Ayaz\\Anaconda3\\lib\\site-packages\\ipykernel_launcher.py:6: UserWarning: Update your `Dense` call to the Keras 2 API: `Dense(1, activation=\"sigmoid\", kernel_initializer=\"normal\")`\n",
      "  \n",
      "C:\\Users\\Ayaz\\Anaconda3\\lib\\site-packages\\ipykernel_launcher.py:5: UserWarning: Update your `Dense` call to the Keras 2 API: `Dense(20, activation=\"relu\", kernel_initializer=\"normal\", kernel_constraint=<keras.con...)`\n",
      "  \"\"\"\n",
      "C:\\Users\\Ayaz\\Anaconda3\\lib\\site-packages\\ipykernel_launcher.py:6: UserWarning: Update your `Dense` call to the Keras 2 API: `Dense(1, activation=\"sigmoid\", kernel_initializer=\"normal\")`\n",
      "  \n",
      "C:\\Users\\Ayaz\\Anaconda3\\lib\\site-packages\\ipykernel_launcher.py:5: UserWarning: Update your `Dense` call to the Keras 2 API: `Dense(20, activation=\"relu\", kernel_initializer=\"normal\", kernel_constraint=<keras.con...)`\n",
      "  \"\"\"\n",
      "C:\\Users\\Ayaz\\Anaconda3\\lib\\site-packages\\ipykernel_launcher.py:6: UserWarning: Update your `Dense` call to the Keras 2 API: `Dense(1, activation=\"sigmoid\", kernel_initializer=\"normal\")`\n",
      "  \n",
      "C:\\Users\\Ayaz\\Anaconda3\\lib\\site-packages\\ipykernel_launcher.py:5: UserWarning: Update your `Dense` call to the Keras 2 API: `Dense(20, activation=\"relu\", kernel_initializer=\"normal\", kernel_constraint=<keras.con...)`\n",
      "  \"\"\"\n",
      "C:\\Users\\Ayaz\\Anaconda3\\lib\\site-packages\\ipykernel_launcher.py:6: UserWarning: Update your `Dense` call to the Keras 2 API: `Dense(1, activation=\"sigmoid\", kernel_initializer=\"normal\")`\n",
      "  \n",
      "C:\\Users\\Ayaz\\Anaconda3\\lib\\site-packages\\ipykernel_launcher.py:5: UserWarning: Update your `Dense` call to the Keras 2 API: `Dense(20, activation=\"relu\", kernel_initializer=\"normal\", kernel_constraint=<keras.con...)`\n",
      "  \"\"\"\n",
      "C:\\Users\\Ayaz\\Anaconda3\\lib\\site-packages\\ipykernel_launcher.py:6: UserWarning: Update your `Dense` call to the Keras 2 API: `Dense(1, activation=\"sigmoid\", kernel_initializer=\"normal\")`\n",
      "  \n",
      "C:\\Users\\Ayaz\\Anaconda3\\lib\\site-packages\\ipykernel_launcher.py:5: UserWarning: Update your `Dense` call to the Keras 2 API: `Dense(20, activation=\"relu\", kernel_initializer=\"normal\", kernel_constraint=<keras.con...)`\n",
      "  \"\"\"\n",
      "C:\\Users\\Ayaz\\Anaconda3\\lib\\site-packages\\ipykernel_launcher.py:6: UserWarning: Update your `Dense` call to the Keras 2 API: `Dense(1, activation=\"sigmoid\", kernel_initializer=\"normal\")`\n",
      "  \n",
      "C:\\Users\\Ayaz\\Anaconda3\\lib\\site-packages\\ipykernel_launcher.py:5: UserWarning: Update your `Dense` call to the Keras 2 API: `Dense(20, activation=\"relu\", kernel_initializer=\"normal\", kernel_constraint=<keras.con...)`\n",
      "  \"\"\"\n",
      "C:\\Users\\Ayaz\\Anaconda3\\lib\\site-packages\\ipykernel_launcher.py:6: UserWarning: Update your `Dense` call to the Keras 2 API: `Dense(1, activation=\"sigmoid\", kernel_initializer=\"normal\")`\n",
      "  \n",
      "C:\\Users\\Ayaz\\Anaconda3\\lib\\site-packages\\ipykernel_launcher.py:5: UserWarning: Update your `Dense` call to the Keras 2 API: `Dense(20, activation=\"relu\", kernel_initializer=\"normal\", kernel_constraint=<keras.con...)`\n",
      "  \"\"\"\n",
      "C:\\Users\\Ayaz\\Anaconda3\\lib\\site-packages\\ipykernel_launcher.py:6: UserWarning: Update your `Dense` call to the Keras 2 API: `Dense(1, activation=\"sigmoid\", kernel_initializer=\"normal\")`\n",
      "  \n",
      "C:\\Users\\Ayaz\\Anaconda3\\lib\\site-packages\\ipykernel_launcher.py:5: UserWarning: Update your `Dense` call to the Keras 2 API: `Dense(20, activation=\"relu\", kernel_initializer=\"normal\", kernel_constraint=<keras.con...)`\n",
      "  \"\"\"\n",
      "C:\\Users\\Ayaz\\Anaconda3\\lib\\site-packages\\ipykernel_launcher.py:6: UserWarning: Update your `Dense` call to the Keras 2 API: `Dense(1, activation=\"sigmoid\", kernel_initializer=\"normal\")`\n",
      "  \n",
      "C:\\Users\\Ayaz\\Anaconda3\\lib\\site-packages\\ipykernel_launcher.py:5: UserWarning: Update your `Dense` call to the Keras 2 API: `Dense(20, activation=\"relu\", kernel_initializer=\"normal\", kernel_constraint=<keras.con...)`\n",
      "  \"\"\"\n",
      "C:\\Users\\Ayaz\\Anaconda3\\lib\\site-packages\\ipykernel_launcher.py:6: UserWarning: Update your `Dense` call to the Keras 2 API: `Dense(1, activation=\"sigmoid\", kernel_initializer=\"normal\")`\n",
      "  \n"
     ]
    },
    {
     "name": "stdout",
     "output_type": "stream",
     "text": [
      "Visible: 83.18% (6.59%)\n"
     ]
    }
   ],
   "source": [
    "numpy.random.seed(seed)\n",
    "estimators = []\n",
    "estimators.append(('standardize', StandardScaler()))\n",
    "estimators.append(('mlp', KerasClassifier(build_fn=create_model, epochs=300, batch_size=10, verbose=0)))\n",
    "pipeline = Pipeline(estimators)\n",
    "kfold = StratifiedKFold(n_splits=10, shuffle=True, random_state=seed)\n",
    "results = cross_val_score(pipeline, X, encoded_Y, cv=kfold)\n",
    "print(\"Visible: %.2f%% (%.2f%%)\" % (results.mean()*100, results.std()*100))\n"
   ]
  },
  {
   "cell_type": "markdown",
   "metadata": {},
   "source": [
    "step 8.1"
   ]
  },
  {
   "cell_type": "code",
   "execution_count": 20,
   "metadata": {},
   "outputs": [],
   "source": [
    "def create_model():\n",
    "    model = Sequential()\n",
    "    model.add(Dense(60,activation='relu', input_shape=(60,)))\n",
    "    model.add(Dropout(0.5,))\n",
    "    model.add(Dense(20, init='normal', activation='relu', W_constraint=maxnorm(3)))\n",
    "    model.add(Dense(1, init='normal', activation='sigmoid'))\n",
    "    sgd = SGD(lr=0.002, momentum=0.5, decay=0.0, nesterov=False)\n",
    "    model.compile(loss='binary_crossentropy', optimizer=sgd, metrics=['accuracy'])\n",
    "    return model"
   ]
  },
  {
   "cell_type": "code",
   "execution_count": 21,
   "metadata": {},
   "outputs": [
    {
     "name": "stderr",
     "output_type": "stream",
     "text": [
      "C:\\Users\\Ayaz\\Anaconda3\\lib\\site-packages\\ipykernel_launcher.py:5: UserWarning: Update your `Dense` call to the Keras 2 API: `Dense(20, activation=\"relu\", kernel_initializer=\"normal\", kernel_constraint=<keras.con...)`\n",
      "  \"\"\"\n",
      "C:\\Users\\Ayaz\\Anaconda3\\lib\\site-packages\\ipykernel_launcher.py:6: UserWarning: Update your `Dense` call to the Keras 2 API: `Dense(1, activation=\"sigmoid\", kernel_initializer=\"normal\")`\n",
      "  \n",
      "C:\\Users\\Ayaz\\Anaconda3\\lib\\site-packages\\ipykernel_launcher.py:5: UserWarning: Update your `Dense` call to the Keras 2 API: `Dense(20, activation=\"relu\", kernel_initializer=\"normal\", kernel_constraint=<keras.con...)`\n",
      "  \"\"\"\n",
      "C:\\Users\\Ayaz\\Anaconda3\\lib\\site-packages\\ipykernel_launcher.py:6: UserWarning: Update your `Dense` call to the Keras 2 API: `Dense(1, activation=\"sigmoid\", kernel_initializer=\"normal\")`\n",
      "  \n",
      "C:\\Users\\Ayaz\\Anaconda3\\lib\\site-packages\\ipykernel_launcher.py:5: UserWarning: Update your `Dense` call to the Keras 2 API: `Dense(20, activation=\"relu\", kernel_initializer=\"normal\", kernel_constraint=<keras.con...)`\n",
      "  \"\"\"\n",
      "C:\\Users\\Ayaz\\Anaconda3\\lib\\site-packages\\ipykernel_launcher.py:6: UserWarning: Update your `Dense` call to the Keras 2 API: `Dense(1, activation=\"sigmoid\", kernel_initializer=\"normal\")`\n",
      "  \n",
      "C:\\Users\\Ayaz\\Anaconda3\\lib\\site-packages\\ipykernel_launcher.py:5: UserWarning: Update your `Dense` call to the Keras 2 API: `Dense(20, activation=\"relu\", kernel_initializer=\"normal\", kernel_constraint=<keras.con...)`\n",
      "  \"\"\"\n",
      "C:\\Users\\Ayaz\\Anaconda3\\lib\\site-packages\\ipykernel_launcher.py:6: UserWarning: Update your `Dense` call to the Keras 2 API: `Dense(1, activation=\"sigmoid\", kernel_initializer=\"normal\")`\n",
      "  \n",
      "C:\\Users\\Ayaz\\Anaconda3\\lib\\site-packages\\ipykernel_launcher.py:5: UserWarning: Update your `Dense` call to the Keras 2 API: `Dense(20, activation=\"relu\", kernel_initializer=\"normal\", kernel_constraint=<keras.con...)`\n",
      "  \"\"\"\n",
      "C:\\Users\\Ayaz\\Anaconda3\\lib\\site-packages\\ipykernel_launcher.py:6: UserWarning: Update your `Dense` call to the Keras 2 API: `Dense(1, activation=\"sigmoid\", kernel_initializer=\"normal\")`\n",
      "  \n",
      "C:\\Users\\Ayaz\\Anaconda3\\lib\\site-packages\\ipykernel_launcher.py:5: UserWarning: Update your `Dense` call to the Keras 2 API: `Dense(20, activation=\"relu\", kernel_initializer=\"normal\", kernel_constraint=<keras.con...)`\n",
      "  \"\"\"\n",
      "C:\\Users\\Ayaz\\Anaconda3\\lib\\site-packages\\ipykernel_launcher.py:6: UserWarning: Update your `Dense` call to the Keras 2 API: `Dense(1, activation=\"sigmoid\", kernel_initializer=\"normal\")`\n",
      "  \n",
      "C:\\Users\\Ayaz\\Anaconda3\\lib\\site-packages\\ipykernel_launcher.py:5: UserWarning: Update your `Dense` call to the Keras 2 API: `Dense(20, activation=\"relu\", kernel_initializer=\"normal\", kernel_constraint=<keras.con...)`\n",
      "  \"\"\"\n",
      "C:\\Users\\Ayaz\\Anaconda3\\lib\\site-packages\\ipykernel_launcher.py:6: UserWarning: Update your `Dense` call to the Keras 2 API: `Dense(1, activation=\"sigmoid\", kernel_initializer=\"normal\")`\n",
      "  \n",
      "C:\\Users\\Ayaz\\Anaconda3\\lib\\site-packages\\ipykernel_launcher.py:5: UserWarning: Update your `Dense` call to the Keras 2 API: `Dense(20, activation=\"relu\", kernel_initializer=\"normal\", kernel_constraint=<keras.con...)`\n",
      "  \"\"\"\n",
      "C:\\Users\\Ayaz\\Anaconda3\\lib\\site-packages\\ipykernel_launcher.py:6: UserWarning: Update your `Dense` call to the Keras 2 API: `Dense(1, activation=\"sigmoid\", kernel_initializer=\"normal\")`\n",
      "  \n",
      "C:\\Users\\Ayaz\\Anaconda3\\lib\\site-packages\\ipykernel_launcher.py:5: UserWarning: Update your `Dense` call to the Keras 2 API: `Dense(20, activation=\"relu\", kernel_initializer=\"normal\", kernel_constraint=<keras.con...)`\n",
      "  \"\"\"\n",
      "C:\\Users\\Ayaz\\Anaconda3\\lib\\site-packages\\ipykernel_launcher.py:6: UserWarning: Update your `Dense` call to the Keras 2 API: `Dense(1, activation=\"sigmoid\", kernel_initializer=\"normal\")`\n",
      "  \n",
      "C:\\Users\\Ayaz\\Anaconda3\\lib\\site-packages\\ipykernel_launcher.py:5: UserWarning: Update your `Dense` call to the Keras 2 API: `Dense(20, activation=\"relu\", kernel_initializer=\"normal\", kernel_constraint=<keras.con...)`\n",
      "  \"\"\"\n",
      "C:\\Users\\Ayaz\\Anaconda3\\lib\\site-packages\\ipykernel_launcher.py:6: UserWarning: Update your `Dense` call to the Keras 2 API: `Dense(1, activation=\"sigmoid\", kernel_initializer=\"normal\")`\n",
      "  \n"
     ]
    },
    {
     "name": "stdout",
     "output_type": "stream",
     "text": [
      "Visible: 81.18% (6.05%)\n"
     ]
    }
   ],
   "source": [
    "numpy.random.seed(seed)\n",
    "estimators = []\n",
    "estimators.append(('standardize', StandardScaler()))\n",
    "estimators.append(('mlp', KerasClassifier(build_fn=create_model, epochs=200, batch_size=10, verbose=0)))\n",
    "pipeline = Pipeline(estimators)\n",
    "kfold = StratifiedKFold(n_splits=10, shuffle=True, random_state=seed)\n",
    "results = cross_val_score(pipeline, X, encoded_Y, cv=kfold)\n",
    "print(\"Visible: %.2f%% (%.2f%%)\" % (results.mean()*100, results.std()*100))\n"
   ]
  },
  {
   "cell_type": "markdown",
   "metadata": {},
   "source": [
    "step 8.2"
   ]
  },
  {
   "cell_type": "code",
   "execution_count": 22,
   "metadata": {},
   "outputs": [],
   "source": [
    "def create_model():\n",
    "    model = Sequential()\n",
    "    model.add(Dense(60,activation='relu', input_shape=(60,)))\n",
    "    model.add(Dropout(0.2,))\n",
    "    model.add(Dense(20, init='normal', activation='relu', W_constraint=maxnorm(3)))\n",
    "    model.add(Dropout(0.5))\n",
    "    model.add(Dense(1, init='normal', activation='sigmoid'))\n",
    "    sgd = SGD(lr=0.002, momentum=0.5, decay=0.0, nesterov=False)\n",
    "    model.compile(loss='binary_crossentropy', optimizer=sgd, metrics=['accuracy'])\n",
    "    return model"
   ]
  },
  {
   "cell_type": "code",
   "execution_count": 23,
   "metadata": {},
   "outputs": [
    {
     "name": "stderr",
     "output_type": "stream",
     "text": [
      "C:\\Users\\Ayaz\\Anaconda3\\lib\\site-packages\\ipykernel_launcher.py:5: UserWarning: Update your `Dense` call to the Keras 2 API: `Dense(20, activation=\"relu\", kernel_initializer=\"normal\", kernel_constraint=<keras.con...)`\n",
      "  \"\"\"\n",
      "C:\\Users\\Ayaz\\Anaconda3\\lib\\site-packages\\ipykernel_launcher.py:7: UserWarning: Update your `Dense` call to the Keras 2 API: `Dense(1, activation=\"sigmoid\", kernel_initializer=\"normal\")`\n",
      "  import sys\n",
      "C:\\Users\\Ayaz\\Anaconda3\\lib\\site-packages\\ipykernel_launcher.py:5: UserWarning: Update your `Dense` call to the Keras 2 API: `Dense(20, activation=\"relu\", kernel_initializer=\"normal\", kernel_constraint=<keras.con...)`\n",
      "  \"\"\"\n",
      "C:\\Users\\Ayaz\\Anaconda3\\lib\\site-packages\\ipykernel_launcher.py:7: UserWarning: Update your `Dense` call to the Keras 2 API: `Dense(1, activation=\"sigmoid\", kernel_initializer=\"normal\")`\n",
      "  import sys\n",
      "C:\\Users\\Ayaz\\Anaconda3\\lib\\site-packages\\ipykernel_launcher.py:5: UserWarning: Update your `Dense` call to the Keras 2 API: `Dense(20, activation=\"relu\", kernel_initializer=\"normal\", kernel_constraint=<keras.con...)`\n",
      "  \"\"\"\n",
      "C:\\Users\\Ayaz\\Anaconda3\\lib\\site-packages\\ipykernel_launcher.py:7: UserWarning: Update your `Dense` call to the Keras 2 API: `Dense(1, activation=\"sigmoid\", kernel_initializer=\"normal\")`\n",
      "  import sys\n",
      "C:\\Users\\Ayaz\\Anaconda3\\lib\\site-packages\\ipykernel_launcher.py:5: UserWarning: Update your `Dense` call to the Keras 2 API: `Dense(20, activation=\"relu\", kernel_initializer=\"normal\", kernel_constraint=<keras.con...)`\n",
      "  \"\"\"\n",
      "C:\\Users\\Ayaz\\Anaconda3\\lib\\site-packages\\ipykernel_launcher.py:7: UserWarning: Update your `Dense` call to the Keras 2 API: `Dense(1, activation=\"sigmoid\", kernel_initializer=\"normal\")`\n",
      "  import sys\n",
      "C:\\Users\\Ayaz\\Anaconda3\\lib\\site-packages\\ipykernel_launcher.py:5: UserWarning: Update your `Dense` call to the Keras 2 API: `Dense(20, activation=\"relu\", kernel_initializer=\"normal\", kernel_constraint=<keras.con...)`\n",
      "  \"\"\"\n",
      "C:\\Users\\Ayaz\\Anaconda3\\lib\\site-packages\\ipykernel_launcher.py:7: UserWarning: Update your `Dense` call to the Keras 2 API: `Dense(1, activation=\"sigmoid\", kernel_initializer=\"normal\")`\n",
      "  import sys\n",
      "C:\\Users\\Ayaz\\Anaconda3\\lib\\site-packages\\ipykernel_launcher.py:5: UserWarning: Update your `Dense` call to the Keras 2 API: `Dense(20, activation=\"relu\", kernel_initializer=\"normal\", kernel_constraint=<keras.con...)`\n",
      "  \"\"\"\n",
      "C:\\Users\\Ayaz\\Anaconda3\\lib\\site-packages\\ipykernel_launcher.py:7: UserWarning: Update your `Dense` call to the Keras 2 API: `Dense(1, activation=\"sigmoid\", kernel_initializer=\"normal\")`\n",
      "  import sys\n",
      "C:\\Users\\Ayaz\\Anaconda3\\lib\\site-packages\\ipykernel_launcher.py:5: UserWarning: Update your `Dense` call to the Keras 2 API: `Dense(20, activation=\"relu\", kernel_initializer=\"normal\", kernel_constraint=<keras.con...)`\n",
      "  \"\"\"\n",
      "C:\\Users\\Ayaz\\Anaconda3\\lib\\site-packages\\ipykernel_launcher.py:7: UserWarning: Update your `Dense` call to the Keras 2 API: `Dense(1, activation=\"sigmoid\", kernel_initializer=\"normal\")`\n",
      "  import sys\n",
      "C:\\Users\\Ayaz\\Anaconda3\\lib\\site-packages\\ipykernel_launcher.py:5: UserWarning: Update your `Dense` call to the Keras 2 API: `Dense(20, activation=\"relu\", kernel_initializer=\"normal\", kernel_constraint=<keras.con...)`\n",
      "  \"\"\"\n",
      "C:\\Users\\Ayaz\\Anaconda3\\lib\\site-packages\\ipykernel_launcher.py:7: UserWarning: Update your `Dense` call to the Keras 2 API: `Dense(1, activation=\"sigmoid\", kernel_initializer=\"normal\")`\n",
      "  import sys\n",
      "C:\\Users\\Ayaz\\Anaconda3\\lib\\site-packages\\ipykernel_launcher.py:5: UserWarning: Update your `Dense` call to the Keras 2 API: `Dense(20, activation=\"relu\", kernel_initializer=\"normal\", kernel_constraint=<keras.con...)`\n",
      "  \"\"\"\n",
      "C:\\Users\\Ayaz\\Anaconda3\\lib\\site-packages\\ipykernel_launcher.py:7: UserWarning: Update your `Dense` call to the Keras 2 API: `Dense(1, activation=\"sigmoid\", kernel_initializer=\"normal\")`\n",
      "  import sys\n",
      "C:\\Users\\Ayaz\\Anaconda3\\lib\\site-packages\\ipykernel_launcher.py:5: UserWarning: Update your `Dense` call to the Keras 2 API: `Dense(20, activation=\"relu\", kernel_initializer=\"normal\", kernel_constraint=<keras.con...)`\n",
      "  \"\"\"\n",
      "C:\\Users\\Ayaz\\Anaconda3\\lib\\site-packages\\ipykernel_launcher.py:7: UserWarning: Update your `Dense` call to the Keras 2 API: `Dense(1, activation=\"sigmoid\", kernel_initializer=\"normal\")`\n",
      "  import sys\n"
     ]
    },
    {
     "name": "stdout",
     "output_type": "stream",
     "text": [
      "Visible: 83.63% (6.30%)\n"
     ]
    }
   ],
   "source": [
    "numpy.random.seed(seed)\n",
    "estimators = []\n",
    "estimators.append(('standardize', StandardScaler()))\n",
    "estimators.append(('mlp', KerasClassifier(build_fn=create_model, epochs=200, batch_size=10, verbose=0)))\n",
    "pipeline = Pipeline(estimators)\n",
    "kfold = StratifiedKFold(n_splits=10, shuffle=True, random_state=seed)\n",
    "results = cross_val_score(pipeline, X, encoded_Y, cv=kfold)\n",
    "print(\"Visible: %.2f%% (%.2f%%)\" % (results.mean()*100, results.std()*100))\n"
   ]
  },
  {
   "cell_type": "markdown",
   "metadata": {},
   "source": [
    "step 8.3"
   ]
  },
  {
   "cell_type": "code",
   "execution_count": 29,
   "metadata": {},
   "outputs": [],
   "source": [
    "def create_model():\n",
    "    model = Sequential()\n",
    "    model.add(Dropout(0.2, input_shape=(60,)))\n",
    "    model.add(Dense(60, init='normal', activation='relu', W_constraint=maxnorm(3)))\n",
    "    model.add(Dropout(0.2,))\n",
    "    model.add(Dense(20, init='normal', activation='relu', W_constraint=maxnorm(3)))\n",
    "    model.add(Dropout(0.2,))\n",
    "    model.add(Dense(1, init='normal', activation='sigmoid'))\n",
    "    sgd = SGD(lr=0.002, momentum=0.5, decay=0.0, nesterov=False)\n",
    "    model.compile(loss='binary_crossentropy', optimizer=sgd, metrics=['accuracy'])\n",
    "    return model"
   ]
  },
  {
   "cell_type": "code",
   "execution_count": 30,
   "metadata": {},
   "outputs": [
    {
     "name": "stderr",
     "output_type": "stream",
     "text": [
      "C:\\Users\\Ayaz\\Anaconda3\\lib\\site-packages\\ipykernel_launcher.py:4: UserWarning: Update your `Dense` call to the Keras 2 API: `Dense(60, activation=\"relu\", kernel_initializer=\"normal\", kernel_constraint=<keras.con...)`\n",
      "  after removing the cwd from sys.path.\n",
      "C:\\Users\\Ayaz\\Anaconda3\\lib\\site-packages\\ipykernel_launcher.py:6: UserWarning: Update your `Dense` call to the Keras 2 API: `Dense(20, activation=\"relu\", kernel_initializer=\"normal\", kernel_constraint=<keras.con...)`\n",
      "  \n",
      "C:\\Users\\Ayaz\\Anaconda3\\lib\\site-packages\\ipykernel_launcher.py:8: UserWarning: Update your `Dense` call to the Keras 2 API: `Dense(1, activation=\"sigmoid\", kernel_initializer=\"normal\")`\n",
      "  \n",
      "C:\\Users\\Ayaz\\Anaconda3\\lib\\site-packages\\ipykernel_launcher.py:4: UserWarning: Update your `Dense` call to the Keras 2 API: `Dense(60, activation=\"relu\", kernel_initializer=\"normal\", kernel_constraint=<keras.con...)`\n",
      "  after removing the cwd from sys.path.\n",
      "C:\\Users\\Ayaz\\Anaconda3\\lib\\site-packages\\ipykernel_launcher.py:6: UserWarning: Update your `Dense` call to the Keras 2 API: `Dense(20, activation=\"relu\", kernel_initializer=\"normal\", kernel_constraint=<keras.con...)`\n",
      "  \n",
      "C:\\Users\\Ayaz\\Anaconda3\\lib\\site-packages\\ipykernel_launcher.py:8: UserWarning: Update your `Dense` call to the Keras 2 API: `Dense(1, activation=\"sigmoid\", kernel_initializer=\"normal\")`\n",
      "  \n",
      "C:\\Users\\Ayaz\\Anaconda3\\lib\\site-packages\\ipykernel_launcher.py:4: UserWarning: Update your `Dense` call to the Keras 2 API: `Dense(60, activation=\"relu\", kernel_initializer=\"normal\", kernel_constraint=<keras.con...)`\n",
      "  after removing the cwd from sys.path.\n",
      "C:\\Users\\Ayaz\\Anaconda3\\lib\\site-packages\\ipykernel_launcher.py:6: UserWarning: Update your `Dense` call to the Keras 2 API: `Dense(20, activation=\"relu\", kernel_initializer=\"normal\", kernel_constraint=<keras.con...)`\n",
      "  \n",
      "C:\\Users\\Ayaz\\Anaconda3\\lib\\site-packages\\ipykernel_launcher.py:8: UserWarning: Update your `Dense` call to the Keras 2 API: `Dense(1, activation=\"sigmoid\", kernel_initializer=\"normal\")`\n",
      "  \n",
      "C:\\Users\\Ayaz\\Anaconda3\\lib\\site-packages\\ipykernel_launcher.py:4: UserWarning: Update your `Dense` call to the Keras 2 API: `Dense(60, activation=\"relu\", kernel_initializer=\"normal\", kernel_constraint=<keras.con...)`\n",
      "  after removing the cwd from sys.path.\n",
      "C:\\Users\\Ayaz\\Anaconda3\\lib\\site-packages\\ipykernel_launcher.py:6: UserWarning: Update your `Dense` call to the Keras 2 API: `Dense(20, activation=\"relu\", kernel_initializer=\"normal\", kernel_constraint=<keras.con...)`\n",
      "  \n",
      "C:\\Users\\Ayaz\\Anaconda3\\lib\\site-packages\\ipykernel_launcher.py:8: UserWarning: Update your `Dense` call to the Keras 2 API: `Dense(1, activation=\"sigmoid\", kernel_initializer=\"normal\")`\n",
      "  \n",
      "C:\\Users\\Ayaz\\Anaconda3\\lib\\site-packages\\ipykernel_launcher.py:4: UserWarning: Update your `Dense` call to the Keras 2 API: `Dense(60, activation=\"relu\", kernel_initializer=\"normal\", kernel_constraint=<keras.con...)`\n",
      "  after removing the cwd from sys.path.\n",
      "C:\\Users\\Ayaz\\Anaconda3\\lib\\site-packages\\ipykernel_launcher.py:6: UserWarning: Update your `Dense` call to the Keras 2 API: `Dense(20, activation=\"relu\", kernel_initializer=\"normal\", kernel_constraint=<keras.con...)`\n",
      "  \n",
      "C:\\Users\\Ayaz\\Anaconda3\\lib\\site-packages\\ipykernel_launcher.py:8: UserWarning: Update your `Dense` call to the Keras 2 API: `Dense(1, activation=\"sigmoid\", kernel_initializer=\"normal\")`\n",
      "  \n",
      "C:\\Users\\Ayaz\\Anaconda3\\lib\\site-packages\\ipykernel_launcher.py:4: UserWarning: Update your `Dense` call to the Keras 2 API: `Dense(60, activation=\"relu\", kernel_initializer=\"normal\", kernel_constraint=<keras.con...)`\n",
      "  after removing the cwd from sys.path.\n",
      "C:\\Users\\Ayaz\\Anaconda3\\lib\\site-packages\\ipykernel_launcher.py:6: UserWarning: Update your `Dense` call to the Keras 2 API: `Dense(20, activation=\"relu\", kernel_initializer=\"normal\", kernel_constraint=<keras.con...)`\n",
      "  \n",
      "C:\\Users\\Ayaz\\Anaconda3\\lib\\site-packages\\ipykernel_launcher.py:8: UserWarning: Update your `Dense` call to the Keras 2 API: `Dense(1, activation=\"sigmoid\", kernel_initializer=\"normal\")`\n",
      "  \n",
      "C:\\Users\\Ayaz\\Anaconda3\\lib\\site-packages\\ipykernel_launcher.py:4: UserWarning: Update your `Dense` call to the Keras 2 API: `Dense(60, activation=\"relu\", kernel_initializer=\"normal\", kernel_constraint=<keras.con...)`\n",
      "  after removing the cwd from sys.path.\n",
      "C:\\Users\\Ayaz\\Anaconda3\\lib\\site-packages\\ipykernel_launcher.py:6: UserWarning: Update your `Dense` call to the Keras 2 API: `Dense(20, activation=\"relu\", kernel_initializer=\"normal\", kernel_constraint=<keras.con...)`\n",
      "  \n",
      "C:\\Users\\Ayaz\\Anaconda3\\lib\\site-packages\\ipykernel_launcher.py:8: UserWarning: Update your `Dense` call to the Keras 2 API: `Dense(1, activation=\"sigmoid\", kernel_initializer=\"normal\")`\n",
      "  \n",
      "C:\\Users\\Ayaz\\Anaconda3\\lib\\site-packages\\ipykernel_launcher.py:4: UserWarning: Update your `Dense` call to the Keras 2 API: `Dense(60, activation=\"relu\", kernel_initializer=\"normal\", kernel_constraint=<keras.con...)`\n",
      "  after removing the cwd from sys.path.\n",
      "C:\\Users\\Ayaz\\Anaconda3\\lib\\site-packages\\ipykernel_launcher.py:6: UserWarning: Update your `Dense` call to the Keras 2 API: `Dense(20, activation=\"relu\", kernel_initializer=\"normal\", kernel_constraint=<keras.con...)`\n",
      "  \n",
      "C:\\Users\\Ayaz\\Anaconda3\\lib\\site-packages\\ipykernel_launcher.py:8: UserWarning: Update your `Dense` call to the Keras 2 API: `Dense(1, activation=\"sigmoid\", kernel_initializer=\"normal\")`\n",
      "  \n",
      "C:\\Users\\Ayaz\\Anaconda3\\lib\\site-packages\\ipykernel_launcher.py:4: UserWarning: Update your `Dense` call to the Keras 2 API: `Dense(60, activation=\"relu\", kernel_initializer=\"normal\", kernel_constraint=<keras.con...)`\n",
      "  after removing the cwd from sys.path.\n",
      "C:\\Users\\Ayaz\\Anaconda3\\lib\\site-packages\\ipykernel_launcher.py:6: UserWarning: Update your `Dense` call to the Keras 2 API: `Dense(20, activation=\"relu\", kernel_initializer=\"normal\", kernel_constraint=<keras.con...)`\n",
      "  \n",
      "C:\\Users\\Ayaz\\Anaconda3\\lib\\site-packages\\ipykernel_launcher.py:8: UserWarning: Update your `Dense` call to the Keras 2 API: `Dense(1, activation=\"sigmoid\", kernel_initializer=\"normal\")`\n",
      "  \n",
      "C:\\Users\\Ayaz\\Anaconda3\\lib\\site-packages\\ipykernel_launcher.py:4: UserWarning: Update your `Dense` call to the Keras 2 API: `Dense(60, activation=\"relu\", kernel_initializer=\"normal\", kernel_constraint=<keras.con...)`\n",
      "  after removing the cwd from sys.path.\n",
      "C:\\Users\\Ayaz\\Anaconda3\\lib\\site-packages\\ipykernel_launcher.py:6: UserWarning: Update your `Dense` call to the Keras 2 API: `Dense(20, activation=\"relu\", kernel_initializer=\"normal\", kernel_constraint=<keras.con...)`\n",
      "  \n",
      "C:\\Users\\Ayaz\\Anaconda3\\lib\\site-packages\\ipykernel_launcher.py:8: UserWarning: Update your `Dense` call to the Keras 2 API: `Dense(1, activation=\"sigmoid\", kernel_initializer=\"normal\")`\n",
      "  \n"
     ]
    },
    {
     "name": "stdout",
     "output_type": "stream",
     "text": [
      "Visible: 79.21% (8.67%)\n"
     ]
    }
   ],
   "source": [
    "numpy.random.seed(seed)\n",
    "estimators = []\n",
    "estimators.append(('standardize', StandardScaler()))\n",
    "estimators.append(('mlp', KerasClassifier(build_fn=create_model, epochs=200, batch_size=10, verbose=0)))\n",
    "pipeline = Pipeline(estimators)\n",
    "kfold = StratifiedKFold(n_splits=10, shuffle=True, random_state=seed)\n",
    "results = cross_val_score(pipeline, X, encoded_Y, cv=kfold)\n",
    "print(\"Visible: %.2f%% (%.2f%%)\" % (results.mean()*100, results.std()*100))\n"
   ]
  },
  {
   "cell_type": "markdown",
   "metadata": {},
   "source": [
    "step 8.4"
   ]
  },
  {
   "cell_type": "code",
   "execution_count": 31,
   "metadata": {},
   "outputs": [],
   "source": [
    "def create_model():\n",
    "    model = Sequential()\n",
    "    model.add(Dense(60,init='normal',activation='relu', input_shape=(60,)))\n",
    "    model.add(Dense(20, init='normal', activation='relu', W_constraint=maxnorm(3)))\n",
    "    model.add(Dropout(0.2,))\n",
    "    model.add(Dense(1, init='normal', activation='sigmoid'))\n",
    "    sgd = SGD(lr=0.08, momentum=0.9, decay=0.2, nesterov=False)\n",
    "    model.compile(loss='binary_crossentropy', optimizer=sgd, metrics=['accuracy'])\n",
    "    return model"
   ]
  },
  {
   "cell_type": "code",
   "execution_count": 32,
   "metadata": {},
   "outputs": [
    {
     "name": "stderr",
     "output_type": "stream",
     "text": [
      "C:\\Users\\Ayaz\\Anaconda3\\lib\\site-packages\\ipykernel_launcher.py:3: UserWarning: Update your `Dense` call to the Keras 2 API: `Dense(60, activation=\"relu\", input_shape=(60,), kernel_initializer=\"normal\")`\n",
      "  This is separate from the ipykernel package so we can avoid doing imports until\n",
      "C:\\Users\\Ayaz\\Anaconda3\\lib\\site-packages\\ipykernel_launcher.py:4: UserWarning: Update your `Dense` call to the Keras 2 API: `Dense(20, activation=\"relu\", kernel_initializer=\"normal\", kernel_constraint=<keras.con...)`\n",
      "  after removing the cwd from sys.path.\n",
      "C:\\Users\\Ayaz\\Anaconda3\\lib\\site-packages\\ipykernel_launcher.py:6: UserWarning: Update your `Dense` call to the Keras 2 API: `Dense(1, activation=\"sigmoid\", kernel_initializer=\"normal\")`\n",
      "  \n",
      "C:\\Users\\Ayaz\\Anaconda3\\lib\\site-packages\\ipykernel_launcher.py:3: UserWarning: Update your `Dense` call to the Keras 2 API: `Dense(60, activation=\"relu\", input_shape=(60,), kernel_initializer=\"normal\")`\n",
      "  This is separate from the ipykernel package so we can avoid doing imports until\n",
      "C:\\Users\\Ayaz\\Anaconda3\\lib\\site-packages\\ipykernel_launcher.py:4: UserWarning: Update your `Dense` call to the Keras 2 API: `Dense(20, activation=\"relu\", kernel_initializer=\"normal\", kernel_constraint=<keras.con...)`\n",
      "  after removing the cwd from sys.path.\n",
      "C:\\Users\\Ayaz\\Anaconda3\\lib\\site-packages\\ipykernel_launcher.py:6: UserWarning: Update your `Dense` call to the Keras 2 API: `Dense(1, activation=\"sigmoid\", kernel_initializer=\"normal\")`\n",
      "  \n",
      "C:\\Users\\Ayaz\\Anaconda3\\lib\\site-packages\\ipykernel_launcher.py:3: UserWarning: Update your `Dense` call to the Keras 2 API: `Dense(60, activation=\"relu\", input_shape=(60,), kernel_initializer=\"normal\")`\n",
      "  This is separate from the ipykernel package so we can avoid doing imports until\n",
      "C:\\Users\\Ayaz\\Anaconda3\\lib\\site-packages\\ipykernel_launcher.py:4: UserWarning: Update your `Dense` call to the Keras 2 API: `Dense(20, activation=\"relu\", kernel_initializer=\"normal\", kernel_constraint=<keras.con...)`\n",
      "  after removing the cwd from sys.path.\n",
      "C:\\Users\\Ayaz\\Anaconda3\\lib\\site-packages\\ipykernel_launcher.py:6: UserWarning: Update your `Dense` call to the Keras 2 API: `Dense(1, activation=\"sigmoid\", kernel_initializer=\"normal\")`\n",
      "  \n",
      "C:\\Users\\Ayaz\\Anaconda3\\lib\\site-packages\\ipykernel_launcher.py:3: UserWarning: Update your `Dense` call to the Keras 2 API: `Dense(60, activation=\"relu\", input_shape=(60,), kernel_initializer=\"normal\")`\n",
      "  This is separate from the ipykernel package so we can avoid doing imports until\n",
      "C:\\Users\\Ayaz\\Anaconda3\\lib\\site-packages\\ipykernel_launcher.py:4: UserWarning: Update your `Dense` call to the Keras 2 API: `Dense(20, activation=\"relu\", kernel_initializer=\"normal\", kernel_constraint=<keras.con...)`\n",
      "  after removing the cwd from sys.path.\n",
      "C:\\Users\\Ayaz\\Anaconda3\\lib\\site-packages\\ipykernel_launcher.py:6: UserWarning: Update your `Dense` call to the Keras 2 API: `Dense(1, activation=\"sigmoid\", kernel_initializer=\"normal\")`\n",
      "  \n",
      "C:\\Users\\Ayaz\\Anaconda3\\lib\\site-packages\\ipykernel_launcher.py:3: UserWarning: Update your `Dense` call to the Keras 2 API: `Dense(60, activation=\"relu\", input_shape=(60,), kernel_initializer=\"normal\")`\n",
      "  This is separate from the ipykernel package so we can avoid doing imports until\n",
      "C:\\Users\\Ayaz\\Anaconda3\\lib\\site-packages\\ipykernel_launcher.py:4: UserWarning: Update your `Dense` call to the Keras 2 API: `Dense(20, activation=\"relu\", kernel_initializer=\"normal\", kernel_constraint=<keras.con...)`\n",
      "  after removing the cwd from sys.path.\n",
      "C:\\Users\\Ayaz\\Anaconda3\\lib\\site-packages\\ipykernel_launcher.py:6: UserWarning: Update your `Dense` call to the Keras 2 API: `Dense(1, activation=\"sigmoid\", kernel_initializer=\"normal\")`\n",
      "  \n",
      "C:\\Users\\Ayaz\\Anaconda3\\lib\\site-packages\\ipykernel_launcher.py:3: UserWarning: Update your `Dense` call to the Keras 2 API: `Dense(60, activation=\"relu\", input_shape=(60,), kernel_initializer=\"normal\")`\n",
      "  This is separate from the ipykernel package so we can avoid doing imports until\n",
      "C:\\Users\\Ayaz\\Anaconda3\\lib\\site-packages\\ipykernel_launcher.py:4: UserWarning: Update your `Dense` call to the Keras 2 API: `Dense(20, activation=\"relu\", kernel_initializer=\"normal\", kernel_constraint=<keras.con...)`\n",
      "  after removing the cwd from sys.path.\n",
      "C:\\Users\\Ayaz\\Anaconda3\\lib\\site-packages\\ipykernel_launcher.py:6: UserWarning: Update your `Dense` call to the Keras 2 API: `Dense(1, activation=\"sigmoid\", kernel_initializer=\"normal\")`\n",
      "  \n",
      "C:\\Users\\Ayaz\\Anaconda3\\lib\\site-packages\\ipykernel_launcher.py:3: UserWarning: Update your `Dense` call to the Keras 2 API: `Dense(60, activation=\"relu\", input_shape=(60,), kernel_initializer=\"normal\")`\n",
      "  This is separate from the ipykernel package so we can avoid doing imports until\n",
      "C:\\Users\\Ayaz\\Anaconda3\\lib\\site-packages\\ipykernel_launcher.py:4: UserWarning: Update your `Dense` call to the Keras 2 API: `Dense(20, activation=\"relu\", kernel_initializer=\"normal\", kernel_constraint=<keras.con...)`\n",
      "  after removing the cwd from sys.path.\n",
      "C:\\Users\\Ayaz\\Anaconda3\\lib\\site-packages\\ipykernel_launcher.py:6: UserWarning: Update your `Dense` call to the Keras 2 API: `Dense(1, activation=\"sigmoid\", kernel_initializer=\"normal\")`\n",
      "  \n",
      "C:\\Users\\Ayaz\\Anaconda3\\lib\\site-packages\\ipykernel_launcher.py:3: UserWarning: Update your `Dense` call to the Keras 2 API: `Dense(60, activation=\"relu\", input_shape=(60,), kernel_initializer=\"normal\")`\n",
      "  This is separate from the ipykernel package so we can avoid doing imports until\n",
      "C:\\Users\\Ayaz\\Anaconda3\\lib\\site-packages\\ipykernel_launcher.py:4: UserWarning: Update your `Dense` call to the Keras 2 API: `Dense(20, activation=\"relu\", kernel_initializer=\"normal\", kernel_constraint=<keras.con...)`\n",
      "  after removing the cwd from sys.path.\n",
      "C:\\Users\\Ayaz\\Anaconda3\\lib\\site-packages\\ipykernel_launcher.py:6: UserWarning: Update your `Dense` call to the Keras 2 API: `Dense(1, activation=\"sigmoid\", kernel_initializer=\"normal\")`\n",
      "  \n",
      "C:\\Users\\Ayaz\\Anaconda3\\lib\\site-packages\\ipykernel_launcher.py:3: UserWarning: Update your `Dense` call to the Keras 2 API: `Dense(60, activation=\"relu\", input_shape=(60,), kernel_initializer=\"normal\")`\n",
      "  This is separate from the ipykernel package so we can avoid doing imports until\n",
      "C:\\Users\\Ayaz\\Anaconda3\\lib\\site-packages\\ipykernel_launcher.py:4: UserWarning: Update your `Dense` call to the Keras 2 API: `Dense(20, activation=\"relu\", kernel_initializer=\"normal\", kernel_constraint=<keras.con...)`\n",
      "  after removing the cwd from sys.path.\n",
      "C:\\Users\\Ayaz\\Anaconda3\\lib\\site-packages\\ipykernel_launcher.py:6: UserWarning: Update your `Dense` call to the Keras 2 API: `Dense(1, activation=\"sigmoid\", kernel_initializer=\"normal\")`\n",
      "  \n",
      "C:\\Users\\Ayaz\\Anaconda3\\lib\\site-packages\\ipykernel_launcher.py:3: UserWarning: Update your `Dense` call to the Keras 2 API: `Dense(60, activation=\"relu\", input_shape=(60,), kernel_initializer=\"normal\")`\n",
      "  This is separate from the ipykernel package so we can avoid doing imports until\n",
      "C:\\Users\\Ayaz\\Anaconda3\\lib\\site-packages\\ipykernel_launcher.py:4: UserWarning: Update your `Dense` call to the Keras 2 API: `Dense(20, activation=\"relu\", kernel_initializer=\"normal\", kernel_constraint=<keras.con...)`\n",
      "  after removing the cwd from sys.path.\n",
      "C:\\Users\\Ayaz\\Anaconda3\\lib\\site-packages\\ipykernel_launcher.py:6: UserWarning: Update your `Dense` call to the Keras 2 API: `Dense(1, activation=\"sigmoid\", kernel_initializer=\"normal\")`\n",
      "  \n"
     ]
    },
    {
     "name": "stdout",
     "output_type": "stream",
     "text": [
      "Visible: 83.11% (8.25%)\n"
     ]
    }
   ],
   "source": [
    "numpy.random.seed(seed)\n",
    "estimators = []\n",
    "estimators.append(('standardize', StandardScaler()))\n",
    "estimators.append(('mlp', KerasClassifier(build_fn=create_model, epochs=200, batch_size=10, verbose=0)))\n",
    "pipeline = Pipeline(estimators)\n",
    "kfold = StratifiedKFold(n_splits=10, shuffle=True, random_state=seed)\n",
    "results = cross_val_score(pipeline, X, encoded_Y, cv=kfold)\n",
    "print(\"Visible: %.2f%% (%.2f%%)\" % (results.mean()*100, results.std()*100))\n"
   ]
  },
  {
   "cell_type": "markdown",
   "metadata": {},
   "source": [
    "step 8.5"
   ]
  },
  {
   "cell_type": "code",
   "execution_count": 34,
   "metadata": {},
   "outputs": [],
   "source": [
    "def create_model():\n",
    "    model = Sequential()\n",
    "    model.add(Dense(60,init='normal',activation='relu', input_shape=(60,)))\n",
    "    model.add(Dense(20, init='normal', activation='relu', W_constraint=maxnorm(4.5)))\n",
    "    model.add(Dropout(0.2,))\n",
    "    model.add(Dense(1, init='normal', activation='sigmoid'))\n",
    "    sgd = SGD(lr=0.08, momentum=0.9, decay=0.2, nesterov=False)\n",
    "    model.compile(loss='binary_crossentropy', optimizer=sgd, metrics=['accuracy'])\n",
    "    return model"
   ]
  },
  {
   "cell_type": "code",
   "execution_count": 35,
   "metadata": {},
   "outputs": [
    {
     "name": "stderr",
     "output_type": "stream",
     "text": [
      "C:\\Users\\Ayaz\\Anaconda3\\lib\\site-packages\\ipykernel_launcher.py:3: UserWarning: Update your `Dense` call to the Keras 2 API: `Dense(60, activation=\"relu\", input_shape=(60,), kernel_initializer=\"normal\")`\n",
      "  This is separate from the ipykernel package so we can avoid doing imports until\n",
      "C:\\Users\\Ayaz\\Anaconda3\\lib\\site-packages\\ipykernel_launcher.py:4: UserWarning: Update your `Dense` call to the Keras 2 API: `Dense(20, activation=\"relu\", kernel_initializer=\"normal\", kernel_constraint=<keras.con...)`\n",
      "  after removing the cwd from sys.path.\n",
      "C:\\Users\\Ayaz\\Anaconda3\\lib\\site-packages\\ipykernel_launcher.py:6: UserWarning: Update your `Dense` call to the Keras 2 API: `Dense(1, activation=\"sigmoid\", kernel_initializer=\"normal\")`\n",
      "  \n",
      "C:\\Users\\Ayaz\\Anaconda3\\lib\\site-packages\\ipykernel_launcher.py:3: UserWarning: Update your `Dense` call to the Keras 2 API: `Dense(60, activation=\"relu\", input_shape=(60,), kernel_initializer=\"normal\")`\n",
      "  This is separate from the ipykernel package so we can avoid doing imports until\n",
      "C:\\Users\\Ayaz\\Anaconda3\\lib\\site-packages\\ipykernel_launcher.py:4: UserWarning: Update your `Dense` call to the Keras 2 API: `Dense(20, activation=\"relu\", kernel_initializer=\"normal\", kernel_constraint=<keras.con...)`\n",
      "  after removing the cwd from sys.path.\n",
      "C:\\Users\\Ayaz\\Anaconda3\\lib\\site-packages\\ipykernel_launcher.py:6: UserWarning: Update your `Dense` call to the Keras 2 API: `Dense(1, activation=\"sigmoid\", kernel_initializer=\"normal\")`\n",
      "  \n",
      "C:\\Users\\Ayaz\\Anaconda3\\lib\\site-packages\\ipykernel_launcher.py:3: UserWarning: Update your `Dense` call to the Keras 2 API: `Dense(60, activation=\"relu\", input_shape=(60,), kernel_initializer=\"normal\")`\n",
      "  This is separate from the ipykernel package so we can avoid doing imports until\n",
      "C:\\Users\\Ayaz\\Anaconda3\\lib\\site-packages\\ipykernel_launcher.py:4: UserWarning: Update your `Dense` call to the Keras 2 API: `Dense(20, activation=\"relu\", kernel_initializer=\"normal\", kernel_constraint=<keras.con...)`\n",
      "  after removing the cwd from sys.path.\n",
      "C:\\Users\\Ayaz\\Anaconda3\\lib\\site-packages\\ipykernel_launcher.py:6: UserWarning: Update your `Dense` call to the Keras 2 API: `Dense(1, activation=\"sigmoid\", kernel_initializer=\"normal\")`\n",
      "  \n",
      "C:\\Users\\Ayaz\\Anaconda3\\lib\\site-packages\\ipykernel_launcher.py:3: UserWarning: Update your `Dense` call to the Keras 2 API: `Dense(60, activation=\"relu\", input_shape=(60,), kernel_initializer=\"normal\")`\n",
      "  This is separate from the ipykernel package so we can avoid doing imports until\n",
      "C:\\Users\\Ayaz\\Anaconda3\\lib\\site-packages\\ipykernel_launcher.py:4: UserWarning: Update your `Dense` call to the Keras 2 API: `Dense(20, activation=\"relu\", kernel_initializer=\"normal\", kernel_constraint=<keras.con...)`\n",
      "  after removing the cwd from sys.path.\n",
      "C:\\Users\\Ayaz\\Anaconda3\\lib\\site-packages\\ipykernel_launcher.py:6: UserWarning: Update your `Dense` call to the Keras 2 API: `Dense(1, activation=\"sigmoid\", kernel_initializer=\"normal\")`\n",
      "  \n",
      "C:\\Users\\Ayaz\\Anaconda3\\lib\\site-packages\\ipykernel_launcher.py:3: UserWarning: Update your `Dense` call to the Keras 2 API: `Dense(60, activation=\"relu\", input_shape=(60,), kernel_initializer=\"normal\")`\n",
      "  This is separate from the ipykernel package so we can avoid doing imports until\n",
      "C:\\Users\\Ayaz\\Anaconda3\\lib\\site-packages\\ipykernel_launcher.py:4: UserWarning: Update your `Dense` call to the Keras 2 API: `Dense(20, activation=\"relu\", kernel_initializer=\"normal\", kernel_constraint=<keras.con...)`\n",
      "  after removing the cwd from sys.path.\n",
      "C:\\Users\\Ayaz\\Anaconda3\\lib\\site-packages\\ipykernel_launcher.py:6: UserWarning: Update your `Dense` call to the Keras 2 API: `Dense(1, activation=\"sigmoid\", kernel_initializer=\"normal\")`\n",
      "  \n",
      "C:\\Users\\Ayaz\\Anaconda3\\lib\\site-packages\\ipykernel_launcher.py:3: UserWarning: Update your `Dense` call to the Keras 2 API: `Dense(60, activation=\"relu\", input_shape=(60,), kernel_initializer=\"normal\")`\n",
      "  This is separate from the ipykernel package so we can avoid doing imports until\n",
      "C:\\Users\\Ayaz\\Anaconda3\\lib\\site-packages\\ipykernel_launcher.py:4: UserWarning: Update your `Dense` call to the Keras 2 API: `Dense(20, activation=\"relu\", kernel_initializer=\"normal\", kernel_constraint=<keras.con...)`\n",
      "  after removing the cwd from sys.path.\n",
      "C:\\Users\\Ayaz\\Anaconda3\\lib\\site-packages\\ipykernel_launcher.py:6: UserWarning: Update your `Dense` call to the Keras 2 API: `Dense(1, activation=\"sigmoid\", kernel_initializer=\"normal\")`\n",
      "  \n",
      "C:\\Users\\Ayaz\\Anaconda3\\lib\\site-packages\\ipykernel_launcher.py:3: UserWarning: Update your `Dense` call to the Keras 2 API: `Dense(60, activation=\"relu\", input_shape=(60,), kernel_initializer=\"normal\")`\n",
      "  This is separate from the ipykernel package so we can avoid doing imports until\n",
      "C:\\Users\\Ayaz\\Anaconda3\\lib\\site-packages\\ipykernel_launcher.py:4: UserWarning: Update your `Dense` call to the Keras 2 API: `Dense(20, activation=\"relu\", kernel_initializer=\"normal\", kernel_constraint=<keras.con...)`\n",
      "  after removing the cwd from sys.path.\n",
      "C:\\Users\\Ayaz\\Anaconda3\\lib\\site-packages\\ipykernel_launcher.py:6: UserWarning: Update your `Dense` call to the Keras 2 API: `Dense(1, activation=\"sigmoid\", kernel_initializer=\"normal\")`\n",
      "  \n",
      "C:\\Users\\Ayaz\\Anaconda3\\lib\\site-packages\\ipykernel_launcher.py:3: UserWarning: Update your `Dense` call to the Keras 2 API: `Dense(60, activation=\"relu\", input_shape=(60,), kernel_initializer=\"normal\")`\n",
      "  This is separate from the ipykernel package so we can avoid doing imports until\n",
      "C:\\Users\\Ayaz\\Anaconda3\\lib\\site-packages\\ipykernel_launcher.py:4: UserWarning: Update your `Dense` call to the Keras 2 API: `Dense(20, activation=\"relu\", kernel_initializer=\"normal\", kernel_constraint=<keras.con...)`\n",
      "  after removing the cwd from sys.path.\n",
      "C:\\Users\\Ayaz\\Anaconda3\\lib\\site-packages\\ipykernel_launcher.py:6: UserWarning: Update your `Dense` call to the Keras 2 API: `Dense(1, activation=\"sigmoid\", kernel_initializer=\"normal\")`\n",
      "  \n",
      "C:\\Users\\Ayaz\\Anaconda3\\lib\\site-packages\\ipykernel_launcher.py:3: UserWarning: Update your `Dense` call to the Keras 2 API: `Dense(60, activation=\"relu\", input_shape=(60,), kernel_initializer=\"normal\")`\n",
      "  This is separate from the ipykernel package so we can avoid doing imports until\n",
      "C:\\Users\\Ayaz\\Anaconda3\\lib\\site-packages\\ipykernel_launcher.py:4: UserWarning: Update your `Dense` call to the Keras 2 API: `Dense(20, activation=\"relu\", kernel_initializer=\"normal\", kernel_constraint=<keras.con...)`\n",
      "  after removing the cwd from sys.path.\n",
      "C:\\Users\\Ayaz\\Anaconda3\\lib\\site-packages\\ipykernel_launcher.py:6: UserWarning: Update your `Dense` call to the Keras 2 API: `Dense(1, activation=\"sigmoid\", kernel_initializer=\"normal\")`\n",
      "  \n",
      "C:\\Users\\Ayaz\\Anaconda3\\lib\\site-packages\\ipykernel_launcher.py:3: UserWarning: Update your `Dense` call to the Keras 2 API: `Dense(60, activation=\"relu\", input_shape=(60,), kernel_initializer=\"normal\")`\n",
      "  This is separate from the ipykernel package so we can avoid doing imports until\n",
      "C:\\Users\\Ayaz\\Anaconda3\\lib\\site-packages\\ipykernel_launcher.py:4: UserWarning: Update your `Dense` call to the Keras 2 API: `Dense(20, activation=\"relu\", kernel_initializer=\"normal\", kernel_constraint=<keras.con...)`\n",
      "  after removing the cwd from sys.path.\n",
      "C:\\Users\\Ayaz\\Anaconda3\\lib\\site-packages\\ipykernel_launcher.py:6: UserWarning: Update your `Dense` call to the Keras 2 API: `Dense(1, activation=\"sigmoid\", kernel_initializer=\"normal\")`\n",
      "  \n"
     ]
    },
    {
     "name": "stdout",
     "output_type": "stream",
     "text": [
      "Visible: 83.59% (8.25%)\n"
     ]
    }
   ],
   "source": [
    "numpy.random.seed(seed)\n",
    "estimators = []\n",
    "estimators.append(('standardize', StandardScaler()))\n",
    "estimators.append(('mlp', KerasClassifier(build_fn=create_model, epochs=200, batch_size=10, verbose=0)))\n",
    "pipeline = Pipeline(estimators)\n",
    "kfold = StratifiedKFold(n_splits=10, shuffle=True, random_state=seed)\n",
    "results = cross_val_score(pipeline, X, encoded_Y, cv=kfold)\n",
    "print(\"Visible: %.2f%% (%.2f%%)\" % (results.mean()*100, results.std()*100))\n"
   ]
  },
  {
   "cell_type": "code",
   "execution_count": null,
   "metadata": {},
   "outputs": [],
   "source": []
  }
 ],
 "metadata": {
  "kernelspec": {
   "display_name": "Python 3",
   "language": "python",
   "name": "python3"
  },
  "language_info": {
   "codemirror_mode": {
    "name": "ipython",
    "version": 3
   },
   "file_extension": ".py",
   "mimetype": "text/x-python",
   "name": "python",
   "nbconvert_exporter": "python",
   "pygments_lexer": "ipython3",
   "version": "3.6.4"
  }
 },
 "nbformat": 4,
 "nbformat_minor": 2
}
