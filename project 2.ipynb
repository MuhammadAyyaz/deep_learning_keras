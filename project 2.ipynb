{
 "cells": [
  {
   "cell_type": "code",
   "execution_count": null,
   "metadata": {
    "_uuid": "d50b5d44b64f5a35e344d36c9ecc81e5f964e92e"
   },
   "outputs": [],
   "source": [
    "import numpy\n",
    "import pandas\n",
    "from keras.models import Sequential\n",
    "from keras import layers\n",
    "from keras.layers import Dense\n",
    "from keras.wrappers.scikit_learn import KerasClassifier\n",
    "from keras.utils import np_utils\n",
    "from sklearn.model_selection import cross_val_score\n",
    "from sklearn.model_selection import KFold\n",
    "from sklearn.preprocessing import LabelEncoder\n",
    "from sklearn.pipeline import Pipeline\n",
    "from keras.optimizers import Adam"
   ]
  },
  {
   "cell_type": "code",
   "execution_count": null,
   "metadata": {
    "_uuid": "f69ea5337390f84aee4d28499d6efc61246e4dc8"
   },
   "outputs": [],
   "source": [
    "seed = 7\n",
    "numpy.random.seed(seed)\n"
   ]
  },
  {
   "cell_type": "markdown",
   "metadata": {
    "_uuid": "9281d7fb575c70a468d2926d2d4d963f9d86d53f"
   },
   "source": [
    "### Loading & splitting data "
   ]
  },
  {
   "cell_type": "code",
   "execution_count": null,
   "metadata": {
    "_uuid": "7c3929e16916174c94d944ac82d62b7ba33fc0ab"
   },
   "outputs": [],
   "source": [
    "dataframe = pandas.read_csv(\"iris.csv\", header=None)\n",
    "dataset = dataframe.values\n"
   ]
  },
  {
   "cell_type": "code",
   "execution_count": null,
   "metadata": {
    "_uuid": "b00b6eebd38f00d3e74cb7243db2152dc8944373"
   },
   "outputs": [],
   "source": [
    "X = dataset[:,0:4].astype(float)\n",
    "Y = dataset[:,4]\n"
   ]
  },
  {
   "cell_type": "markdown",
   "metadata": {
    "_uuid": "e86aff492c455750d1a9820813e58004650d5ded"
   },
   "source": [
    "### Converting Labels"
   ]
  },
  {
   "cell_type": "code",
   "execution_count": null,
   "metadata": {
    "_uuid": "678aa8bf5c4a27ed14bbaeb428cae26490164392"
   },
   "outputs": [],
   "source": [
    "encoder = LabelEncoder()\n",
    "encoder.fit(Y)\n",
    "encoded_Y = encoder.transform(Y)\n",
    "dummy_y = np_utils.to_categorical(encoded_Y)"
   ]
  },
  {
   "cell_type": "code",
   "execution_count": null,
   "metadata": {
    "_uuid": "084d79fcc7877f0cfb3b5a8fefe35286a950bb93"
   },
   "outputs": [],
   "source": [
    "dummy_y.shape"
   ]
  },
  {
   "cell_type": "markdown",
   "metadata": {
    "_uuid": "a2fa5ee013494500feb5f0797f6e828eee9a3c03"
   },
   "source": [
    "### Creating baseline model "
   ]
  },
  {
   "cell_type": "code",
   "execution_count": null,
   "metadata": {
    "_uuid": "aede3387297935cbe578a1f4c4e76f9a5dd0dfc0"
   },
   "outputs": [],
   "source": [
    "def create_baseline():\n",
    "    model=Sequential()\n",
    "    model.add(Dense(8, activation='relu',input_shape=(4,)))\n",
    "    model.add(Dense(3,activation='softmax'))\n",
    "    model.compile(optimizer=Adam(lr=0.002), loss='categorical_crossentropy', metrics=['accuracy'])\n",
    "    return model"
   ]
  },
  {
   "cell_type": "code",
   "execution_count": null,
   "metadata": {
    "_uuid": "37651ac2a45525c789272391ddc623c71f842d94"
   },
   "outputs": [],
   "source": [
    "estimator = KerasClassifier(build_fn=create_baseline, epochs=200, batch_size=5, verbose=0)"
   ]
  },
  {
   "cell_type": "code",
   "execution_count": null,
   "metadata": {
    "_uuid": "b10ec81bb7bcd13240c097606fce54f231e37813"
   },
   "outputs": [],
   "source": [
    "kfold = KFold(n_splits=10, shuffle=True, random_state=seed)"
   ]
  },
  {
   "cell_type": "code",
   "execution_count": null,
   "metadata": {
    "_uuid": "246d1b2cc62f511aa9d091cf46e6bd3fe17cfae4"
   },
   "outputs": [],
   "source": [
    "results = cross_val_score(estimator, X, dummy_y, cv=kfold)\n",
    "print(\"Baseline: %.2f%% (%.2f%%)\" % (results.mean()*100, results.std()*100))\n"
   ]
  },
  {
   "cell_type": "markdown",
   "metadata": {
    "_uuid": "b53d11b2efbe8999da2f5fb9d98864ae3b980c2a"
   },
   "source": [
    "### Smaller model "
   ]
  },
  {
   "cell_type": "code",
   "execution_count": null,
   "metadata": {
    "_uuid": "94cb32bb72228fa48c0c8d08d5f5aa6568c10bcb"
   },
   "outputs": [],
   "source": [
    "def create_smaller():\n",
    "    model=Sequential()\n",
    "    model.add(Dense(4, activation='relu',input_shape=(4,)))\n",
    "    model.add(Dense(3,activation='softmax'))\n",
    "    model.compile(optimizer=Adam(lr=0.001), loss='categorical_crossentropy', metrics=['accuracy'])\n",
    "    return model"
   ]
  },
  {
   "cell_type": "code",
   "execution_count": null,
   "metadata": {
    "_uuid": "07c4c36cc1f973e029fbe1871888ef5a1e5ecd75"
   },
   "outputs": [],
   "source": [
    "estimator = KerasClassifier(build_fn=create_smaller, epochs=100, batch_size=5, verbose=0)\n",
    "kfold = KFold(n_splits=10, shuffle=True, random_state=seed)\n",
    "results = cross_val_score(estimator, X, dummy_y, cv=kfold)\n",
    "print(\"Smaller: %.2f%% (%.2f%%)\" % (results.mean()*100, results.std()*100))\n"
   ]
  },
  {
   "cell_type": "markdown",
   "metadata": {
    "_uuid": "ac6f103909c6745c661b5dc96498cd5002b2592f"
   },
   "source": [
    "### Larger model "
   ]
  },
  {
   "cell_type": "code",
   "execution_count": null,
   "metadata": {
    "_uuid": "0a256b170d71857014ae1d320419218f2ee49de7"
   },
   "outputs": [],
   "source": [
    "def create_larger():\n",
    "    model=Sequential()\n",
    "    model.add(Dense(32, activation='relu',input_shape=(4,)))\n",
    "    model.add(Dense(32, activation='relu'))\n",
    "    model.add(Dense(16, activation='relu'))\n",
    "    model.add(Dense(8, activation='relu'))\n",
    "    model.add(Dense(4, activation='relu'))\n",
    "    model.add(Dense(3, activation='softmax'))\n",
    "    model.compile(optimizer=Adam(lr=0.001), loss='categorical_crossentropy', metrics=['accuracy'])\n",
    "    return model"
   ]
  },
  {
   "cell_type": "code",
   "execution_count": null,
   "metadata": {
    "_uuid": "75bfc046d0806bbc82d6e7d2f0dc4616f255c3e9"
   },
   "outputs": [],
   "source": [
    "estimator = KerasClassifier(build_fn=create_larger, epochs=200, batch_size=5, verbose=0)\n",
    "kfold = KFold(n_splits=20, shuffle=True, random_state=seed)\n",
    "results = cross_val_score(estimator, X, dummy_y, cv=kfold)\n",
    "print(\"Larger: %.2f%% (%.2f%%)\" % (results.mean()*100, results.std()*100))"
   ]
  },
  {
   "cell_type": "markdown",
   "metadata": {
    "_uuid": "1fdd51180581ddaf38174780d4d6ba61d2b4aa93"
   },
   "source": [
    "### Model that overfits "
   ]
  },
  {
   "cell_type": "code",
   "execution_count": null,
   "metadata": {
    "_uuid": "f2d0d2ec243f13e2e10395dab6556c305aed6cf1"
   },
   "outputs": [],
   "source": [
    "def create_overfitting_model():\n",
    "    model=Sequential()\n",
    "    model.add(Dense(32, activation='relu',input_shape=(4,)))\n",
    "    model.add(Dense(16, activation='relu'))\n",
    "    model.add(Dense(16, activation='relu'))\n",
    "    model.add(Dense(32, activation='relu'))\n",
    "    model.add(Dense(3, activation='softmax'))\n",
    "    model.compile(optimizer=Adam(lr=0.08), loss='categorical_crossentropy', metrics=['accuracy'])\n",
    "    return model"
   ]
  },
  {
   "cell_type": "code",
   "execution_count": null,
   "metadata": {
    "_uuid": "cc947455a71320caa8c3adb5f4f7a24181f5f3fb"
   },
   "outputs": [],
   "source": [
    "estimator = KerasClassifier(build_fn=create_overfitting_model, epochs=400, batch_size=10, verbose=0)\n",
    "kfold = KFold(n_splits=10, shuffle=True, random_state=seed)\n",
    "results = cross_val_score(estimator, X, dummy_y, cv=kfold)\n",
    "print(\"overfitting_Result: %.2f%% (%.2f%%)\" % (results.mean()*100, results.std()*100))"
   ]
  },
  {
   "cell_type": "markdown",
   "metadata": {
    "_uuid": "e5478ec19e87629923b88ddd1de3ce3414d27d04"
   },
   "source": [
    "### Model with keras functional API "
   ]
  },
  {
   "cell_type": "code",
   "execution_count": null,
   "metadata": {
    "_uuid": "1d68c408307269869680bc29d8f4d17aa876ed26"
   },
   "outputs": [],
   "source": [
    "import keras\n",
    "\n",
    "def functional_api():\n",
    "    inputs=keras.Input(shape=(4,))\n",
    "    hl_1=layers.Dense(4,activation='relu')(inputs)\n",
    "    hl_2=layers.Dense(16, activation='relu')(hl_1)\n",
    "    outputs=layers.Dense(3, activation='softmax')(hl_2)\n",
    "    model=keras.Model(inputs,outputs)\n",
    "    model.compile(optimizer=Adam(lr=0.002),loss='binary_crossentropy', metrics=['accuracy'])\n",
    "    return model"
   ]
  },
  {
   "cell_type": "code",
   "execution_count": null,
   "metadata": {
    "_uuid": "5c5b0cfea3a26ae009f6bcb6a13b11aadbbd7a36"
   },
   "outputs": [],
   "source": [
    "estimator = KerasClassifier(build_fn=functional_api, epochs=100, batch_size=5, verbose=0)\n",
    "kfold = KFold(n_splits=10, shuffle=True, random_state=seed)\n",
    "results = cross_val_score(estimator, X, dummy_y, cv=kfold)\n",
    "print(\"functional_API_Result: %.2f%% (%.2f%%)\" % (results.mean()*100, results.std()*100))"
   ]
  },
  {
   "cell_type": "code",
   "execution_count": null,
   "metadata": {
    "_uuid": "06e2f25a016f124e25d52dcf719f0a7fc75a1bb2"
   },
   "outputs": [],
   "source": [
    "import keras\n",
    "input=keras.Input(shape=(4,))\n",
    "class MyModel(keras.Model):\n",
    "    def __init__(self):\n",
    "        super(MyModel,self).__init__()\n",
    "        self.dense1=layers.Dense(64,activation='relu')\n",
    "        self.dense2=layers.Dense(32,activation='relu')\n",
    "        self.dense3=layers.Dense(16,activation='relu')\n",
    "        self.dense4=layers.Dense(3,activation='softmax')\n",
    "    def call(self,inputs):\n",
    "        x=self.dense1(inputs)\n",
    "        x=self.dense2(x)\n",
    "        x=self.dense3(x)\n",
    "        return self.dense4(x)\n",
    "model=MyModel()\n",
    "model.compile(optimizer=Adam(lr=0.002),loss='binary_crossentropy',metrics=['accuracy'])\n",
    "model.fit(X,encoded_Y,epochs=50,batch_size=3)"
   ]
  },
  {
   "cell_type": "markdown",
   "metadata": {
    "_uuid": "4e67ee7eb3c83af39151f0f5c3e2b270b667ab89"
   },
   "source": [
    "### Applying kfold cross-validation on model without scikit-learn "
   ]
  },
  {
   "cell_type": "code",
   "execution_count": null,
   "metadata": {
    "_uuid": "5121cf79b7c9e189500e957c689031ba20d15572"
   },
   "outputs": [],
   "source": [
    "k = 4\n",
    "num_val_samples = len(X) // k\n",
    "num_epochs = 100\n",
    "all_scores = []"
   ]
  },
  {
   "cell_type": "code",
   "execution_count": null,
   "metadata": {
    "_uuid": "6f5a3a48dfab663892149f12a8f4ba69e8a0b13f"
   },
   "outputs": [],
   "source": [
    "for i in range(k):\n",
    "    print('processing fold #', i)\n",
    "    val_data = X[i * num_val_samples: (i + 1) * num_val_samples]\n",
    "    val_targets = dummy_y[i * num_val_samples: (i + 1) * num_val_samples]\n",
    "    partial_train_data = numpy.concatenate([X[:i * num_val_samples],X[(i + 1) * num_val_samples:]],axis=0)\n",
    "    partial_train_targets = numpy.concatenate([dummy_y[:i * num_val_samples],dummy_y[(i + 1) * num_val_samples:]],axis=0)\n",
    "model = create_baseline()\n",
    "model.fit(partial_train_data, partial_train_targets,epochs=num_epochs, batch_size=1, verbose=0)\n",
    "val_mse, val_mae = model.evaluate(val_data, val_targets, verbose=0)\n",
    "all_scores.append(val_mae)"
   ]
  },
  {
   "cell_type": "code",
   "execution_count": null,
   "metadata": {
    "_uuid": "5fb3606d0af44d9b6bc8cefa32e39ced703cc22e"
   },
   "outputs": [],
   "source": [
    "all_scores"
   ]
  },
  {
   "cell_type": "code",
   "execution_count": null,
   "metadata": {
    "_uuid": "be96188882bebb20880138b54b9c0a154dba7bd7"
   },
   "outputs": [],
   "source": []
  }
 ],
 "metadata": {
  "kernelspec": {
   "display_name": "Python 3",
   "language": "python",
   "name": "python3"
  },
  "language_info": {
   "codemirror_mode": {
    "name": "ipython",
    "version": 3
   },
   "file_extension": ".py",
   "mimetype": "text/x-python",
   "name": "python",
   "nbconvert_exporter": "python",
   "pygments_lexer": "ipython3",
   "version": "3.6.4"
  }
 },
 "nbformat": 4,
 "nbformat_minor": 1
}
